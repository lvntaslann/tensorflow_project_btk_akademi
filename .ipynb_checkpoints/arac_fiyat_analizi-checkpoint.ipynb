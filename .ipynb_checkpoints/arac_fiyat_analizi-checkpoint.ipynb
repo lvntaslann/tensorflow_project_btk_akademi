{
 "cells": [
  {
   "cell_type": "code",
   "execution_count": 1,
   "id": "c6de4af4-19c6-4f45-9870-a043d2c7e306",
   "metadata": {},
   "outputs": [],
   "source": [
    "import pandas as pd\n",
    "import numpy as np\n",
    "import matplotlib.pyplot as plt\n",
    "import seaborn as sbn"
   ]
  },
  {
   "cell_type": "code",
   "execution_count": 2,
   "id": "8651907c-849f-4830-ad35-c31c6ea1eedc",
   "metadata": {},
   "outputs": [],
   "source": [
    "dataFrame = pd.read_excel(\"merc.xlsx\")"
   ]
  },
  {
   "cell_type": "code",
   "execution_count": 3,
   "id": "597d160e-05d7-49c1-a28a-147d3c1c43cb",
   "metadata": {},
   "outputs": [
    {
     "data": {
      "text/html": [
       "<div>\n",
       "<style scoped>\n",
       "    .dataframe tbody tr th:only-of-type {\n",
       "        vertical-align: middle;\n",
       "    }\n",
       "\n",
       "    .dataframe tbody tr th {\n",
       "        vertical-align: top;\n",
       "    }\n",
       "\n",
       "    .dataframe thead th {\n",
       "        text-align: right;\n",
       "    }\n",
       "</style>\n",
       "<table border=\"1\" class=\"dataframe\">\n",
       "  <thead>\n",
       "    <tr style=\"text-align: right;\">\n",
       "      <th></th>\n",
       "      <th>year</th>\n",
       "      <th>price</th>\n",
       "      <th>transmission</th>\n",
       "      <th>mileage</th>\n",
       "      <th>tax</th>\n",
       "      <th>mpg</th>\n",
       "      <th>engineSize</th>\n",
       "    </tr>\n",
       "  </thead>\n",
       "  <tbody>\n",
       "    <tr>\n",
       "      <th>0</th>\n",
       "      <td>2005</td>\n",
       "      <td>5200</td>\n",
       "      <td>Automatic</td>\n",
       "      <td>63000</td>\n",
       "      <td>325</td>\n",
       "      <td>32.1</td>\n",
       "      <td>1.8</td>\n",
       "    </tr>\n",
       "    <tr>\n",
       "      <th>1</th>\n",
       "      <td>2017</td>\n",
       "      <td>34948</td>\n",
       "      <td>Automatic</td>\n",
       "      <td>27000</td>\n",
       "      <td>20</td>\n",
       "      <td>61.4</td>\n",
       "      <td>2.1</td>\n",
       "    </tr>\n",
       "    <tr>\n",
       "      <th>2</th>\n",
       "      <td>2016</td>\n",
       "      <td>49948</td>\n",
       "      <td>Automatic</td>\n",
       "      <td>6200</td>\n",
       "      <td>555</td>\n",
       "      <td>28.0</td>\n",
       "      <td>5.5</td>\n",
       "    </tr>\n",
       "    <tr>\n",
       "      <th>3</th>\n",
       "      <td>2016</td>\n",
       "      <td>61948</td>\n",
       "      <td>Automatic</td>\n",
       "      <td>16000</td>\n",
       "      <td>325</td>\n",
       "      <td>30.4</td>\n",
       "      <td>4.0</td>\n",
       "    </tr>\n",
       "    <tr>\n",
       "      <th>4</th>\n",
       "      <td>2016</td>\n",
       "      <td>73948</td>\n",
       "      <td>Automatic</td>\n",
       "      <td>4000</td>\n",
       "      <td>325</td>\n",
       "      <td>30.1</td>\n",
       "      <td>4.0</td>\n",
       "    </tr>\n",
       "  </tbody>\n",
       "</table>\n",
       "</div>"
      ],
      "text/plain": [
       "   year  price transmission  mileage  tax   mpg  engineSize\n",
       "0  2005   5200    Automatic    63000  325  32.1         1.8\n",
       "1  2017  34948    Automatic    27000   20  61.4         2.1\n",
       "2  2016  49948    Automatic     6200  555  28.0         5.5\n",
       "3  2016  61948    Automatic    16000  325  30.4         4.0\n",
       "4  2016  73948    Automatic     4000  325  30.1         4.0"
      ]
     },
     "execution_count": 3,
     "metadata": {},
     "output_type": "execute_result"
    }
   ],
   "source": [
    "dataFrame.head()"
   ]
  },
  {
   "cell_type": "code",
   "execution_count": 4,
   "id": "c3784471-01da-49e6-9b5e-52849558a0e2",
   "metadata": {},
   "outputs": [
    {
     "data": {
      "text/html": [
       "<div>\n",
       "<style scoped>\n",
       "    .dataframe tbody tr th:only-of-type {\n",
       "        vertical-align: middle;\n",
       "    }\n",
       "\n",
       "    .dataframe tbody tr th {\n",
       "        vertical-align: top;\n",
       "    }\n",
       "\n",
       "    .dataframe thead th {\n",
       "        text-align: right;\n",
       "    }\n",
       "</style>\n",
       "<table border=\"1\" class=\"dataframe\">\n",
       "  <thead>\n",
       "    <tr style=\"text-align: right;\">\n",
       "      <th></th>\n",
       "      <th>year</th>\n",
       "      <th>price</th>\n",
       "      <th>mileage</th>\n",
       "      <th>tax</th>\n",
       "      <th>mpg</th>\n",
       "      <th>engineSize</th>\n",
       "    </tr>\n",
       "  </thead>\n",
       "  <tbody>\n",
       "    <tr>\n",
       "      <th>count</th>\n",
       "      <td>13119.000000</td>\n",
       "      <td>13119.000000</td>\n",
       "      <td>13119.000000</td>\n",
       "      <td>13119.000000</td>\n",
       "      <td>13119.000000</td>\n",
       "      <td>13119.000000</td>\n",
       "    </tr>\n",
       "    <tr>\n",
       "      <th>mean</th>\n",
       "      <td>2017.296288</td>\n",
       "      <td>24698.596920</td>\n",
       "      <td>21949.559037</td>\n",
       "      <td>129.972178</td>\n",
       "      <td>55.155843</td>\n",
       "      <td>2.071530</td>\n",
       "    </tr>\n",
       "    <tr>\n",
       "      <th>std</th>\n",
       "      <td>2.224709</td>\n",
       "      <td>11842.675542</td>\n",
       "      <td>21176.512267</td>\n",
       "      <td>65.260286</td>\n",
       "      <td>15.220082</td>\n",
       "      <td>0.572426</td>\n",
       "    </tr>\n",
       "    <tr>\n",
       "      <th>min</th>\n",
       "      <td>1970.000000</td>\n",
       "      <td>650.000000</td>\n",
       "      <td>1.000000</td>\n",
       "      <td>0.000000</td>\n",
       "      <td>1.100000</td>\n",
       "      <td>0.000000</td>\n",
       "    </tr>\n",
       "    <tr>\n",
       "      <th>25%</th>\n",
       "      <td>2016.000000</td>\n",
       "      <td>17450.000000</td>\n",
       "      <td>6097.500000</td>\n",
       "      <td>125.000000</td>\n",
       "      <td>45.600000</td>\n",
       "      <td>1.800000</td>\n",
       "    </tr>\n",
       "    <tr>\n",
       "      <th>50%</th>\n",
       "      <td>2018.000000</td>\n",
       "      <td>22480.000000</td>\n",
       "      <td>15189.000000</td>\n",
       "      <td>145.000000</td>\n",
       "      <td>56.500000</td>\n",
       "      <td>2.000000</td>\n",
       "    </tr>\n",
       "    <tr>\n",
       "      <th>75%</th>\n",
       "      <td>2019.000000</td>\n",
       "      <td>28980.000000</td>\n",
       "      <td>31779.500000</td>\n",
       "      <td>145.000000</td>\n",
       "      <td>64.200000</td>\n",
       "      <td>2.100000</td>\n",
       "    </tr>\n",
       "    <tr>\n",
       "      <th>max</th>\n",
       "      <td>2020.000000</td>\n",
       "      <td>159999.000000</td>\n",
       "      <td>259000.000000</td>\n",
       "      <td>580.000000</td>\n",
       "      <td>217.300000</td>\n",
       "      <td>6.200000</td>\n",
       "    </tr>\n",
       "  </tbody>\n",
       "</table>\n",
       "</div>"
      ],
      "text/plain": [
       "               year          price        mileage           tax           mpg  \\\n",
       "count  13119.000000   13119.000000   13119.000000  13119.000000  13119.000000   \n",
       "mean    2017.296288   24698.596920   21949.559037    129.972178     55.155843   \n",
       "std        2.224709   11842.675542   21176.512267     65.260286     15.220082   \n",
       "min     1970.000000     650.000000       1.000000      0.000000      1.100000   \n",
       "25%     2016.000000   17450.000000    6097.500000    125.000000     45.600000   \n",
       "50%     2018.000000   22480.000000   15189.000000    145.000000     56.500000   \n",
       "75%     2019.000000   28980.000000   31779.500000    145.000000     64.200000   \n",
       "max     2020.000000  159999.000000  259000.000000    580.000000    217.300000   \n",
       "\n",
       "         engineSize  \n",
       "count  13119.000000  \n",
       "mean       2.071530  \n",
       "std        0.572426  \n",
       "min        0.000000  \n",
       "25%        1.800000  \n",
       "50%        2.000000  \n",
       "75%        2.100000  \n",
       "max        6.200000  "
      ]
     },
     "execution_count": 4,
     "metadata": {},
     "output_type": "execute_result"
    }
   ],
   "source": [
    "dataFrame.describe()"
   ]
  },
  {
   "cell_type": "code",
   "execution_count": 5,
   "id": "61daa4e5-b8e6-4633-9e76-d2a9650c6eb2",
   "metadata": {},
   "outputs": [
    {
     "data": {
      "text/plain": [
       "year            0\n",
       "price           0\n",
       "transmission    0\n",
       "mileage         0\n",
       "tax             0\n",
       "mpg             0\n",
       "engineSize      0\n",
       "dtype: int64"
      ]
     },
     "execution_count": 5,
     "metadata": {},
     "output_type": "execute_result"
    }
   ],
   "source": [
    "dataFrame.isnull().sum()"
   ]
  },
  {
   "cell_type": "code",
   "execution_count": 6,
   "id": "e09c4028-b4aa-442d-8dfe-6ac0ce3f7ab0",
   "metadata": {},
   "outputs": [
    {
     "data": {
      "text/plain": [
       "<seaborn.axisgrid.FacetGrid at 0x2b03dc658b0>"
      ]
     },
     "execution_count": 6,
     "metadata": {},
     "output_type": "execute_result"
    },
    {
     "data": {
      "text/plain": [
       "<Figure size 700x500 with 0 Axes>"
      ]
     },
     "metadata": {},
     "output_type": "display_data"
    },
    {
     "data": {
      "image/png": "[encoded data removed]",
      "text/plain": [
       "<Figure size 500x500 with 1 Axes>"
      ]
     },
     "metadata": {},
     "output_type": "display_data"
    }
   ],
   "source": [
    "plt.figure(figsize = (7,5))\n",
    "sbn.displot(dataFrame[\"price\"])"
   ]
  },
  {
   "cell_type": "code",
   "execution_count": 7,
   "id": "5be42fb6-7fca-49a7-96eb-74652e25f0d4",
   "metadata": {},
   "outputs": [
    {
     "data": {
      "text/plain": [
       "<Axes: xlabel='year', ylabel='count'>"
      ]
     },
     "execution_count": 7,
     "metadata": {},
     "output_type": "execute_result"
    },
    {
     "data": {
      "image/png": "[encoded data removed]",
      "text/plain": [
       "<Figure size 640x480 with 1 Axes>"
      ]
     },
     "metadata": {},
     "output_type": "display_data"
    }
   ],
   "source": [
    "sbn.countplot(data=dataFrame, x=\"year\")"
   ]
  },
  {
   "cell_type": "code",
   "execution_count": 8,
   "id": "a0e2f9e3-ef0b-40b0-95ac-17b194661bce",
   "metadata": {},
   "outputs": [],
   "source": [
    "#korelasyon işlemi\n",
    "numeric_df = dataFrame.select_dtypes(include=[np.number])\n",
    "corr_matrix = numeric_df.corr()"
   ]
  },
  {
   "cell_type": "code",
   "execution_count": 9,
   "id": "61b333b1-40bb-47ee-91d6-b06db6556115",
   "metadata": {},
   "outputs": [
    {
     "data": {
      "text/html": [
       "<div>\n",
       "<style scoped>\n",
       "    .dataframe tbody tr th:only-of-type {\n",
       "        vertical-align: middle;\n",
       "    }\n",
       "\n",
       "    .dataframe tbody tr th {\n",
       "        vertical-align: top;\n",
       "    }\n",
       "\n",
       "    .dataframe thead th {\n",
       "        text-align: right;\n",
       "    }\n",
       "</style>\n",
       "<table border=\"1\" class=\"dataframe\">\n",
       "  <thead>\n",
       "    <tr style=\"text-align: right;\">\n",
       "      <th></th>\n",
       "      <th>year</th>\n",
       "      <th>price</th>\n",
       "      <th>mileage</th>\n",
       "      <th>tax</th>\n",
       "      <th>mpg</th>\n",
       "      <th>engineSize</th>\n",
       "    </tr>\n",
       "  </thead>\n",
       "  <tbody>\n",
       "    <tr>\n",
       "      <th>year</th>\n",
       "      <td>1.000000</td>\n",
       "      <td>0.520712</td>\n",
       "      <td>-0.738027</td>\n",
       "      <td>0.012480</td>\n",
       "      <td>-0.094626</td>\n",
       "      <td>-0.142147</td>\n",
       "    </tr>\n",
       "    <tr>\n",
       "      <th>price</th>\n",
       "      <td>0.520712</td>\n",
       "      <td>1.000000</td>\n",
       "      <td>-0.537214</td>\n",
       "      <td>0.268717</td>\n",
       "      <td>-0.438445</td>\n",
       "      <td>0.516126</td>\n",
       "    </tr>\n",
       "    <tr>\n",
       "      <th>mileage</th>\n",
       "      <td>-0.738027</td>\n",
       "      <td>-0.537214</td>\n",
       "      <td>1.000000</td>\n",
       "      <td>-0.160223</td>\n",
       "      <td>0.202850</td>\n",
       "      <td>0.063652</td>\n",
       "    </tr>\n",
       "    <tr>\n",
       "      <th>tax</th>\n",
       "      <td>0.012480</td>\n",
       "      <td>0.268717</td>\n",
       "      <td>-0.160223</td>\n",
       "      <td>1.000000</td>\n",
       "      <td>-0.513742</td>\n",
       "      <td>0.338341</td>\n",
       "    </tr>\n",
       "    <tr>\n",
       "      <th>mpg</th>\n",
       "      <td>-0.094626</td>\n",
       "      <td>-0.438445</td>\n",
       "      <td>0.202850</td>\n",
       "      <td>-0.513742</td>\n",
       "      <td>1.000000</td>\n",
       "      <td>-0.339862</td>\n",
       "    </tr>\n",
       "    <tr>\n",
       "      <th>engineSize</th>\n",
       "      <td>-0.142147</td>\n",
       "      <td>0.516126</td>\n",
       "      <td>0.063652</td>\n",
       "      <td>0.338341</td>\n",
       "      <td>-0.339862</td>\n",
       "      <td>1.000000</td>\n",
       "    </tr>\n",
       "  </tbody>\n",
       "</table>\n",
       "</div>"
      ],
      "text/plain": [
       "                year     price   mileage       tax       mpg  engineSize\n",
       "year        1.000000  0.520712 -0.738027  0.012480 -0.094626   -0.142147\n",
       "price       0.520712  1.000000 -0.537214  0.268717 -0.438445    0.516126\n",
       "mileage    -0.738027 -0.537214  1.000000 -0.160223  0.202850    0.063652\n",
       "tax         0.012480  0.268717 -0.160223  1.000000 -0.513742    0.338341\n",
       "mpg        -0.094626 -0.438445  0.202850 -0.513742  1.000000   -0.339862\n",
       "engineSize -0.142147  0.516126  0.063652  0.338341 -0.339862    1.000000"
      ]
     },
     "execution_count": 9,
     "metadata": {},
     "output_type": "execute_result"
    }
   ],
   "source": [
    "corr_matrix"
   ]
  },
  {
   "cell_type": "code",
   "execution_count": 10,
   "id": "0e70dbb3-ceb8-4295-8669-f0293af1494d",
   "metadata": {},
   "outputs": [],
   "source": [
    "price_corr = corr_matrix[\"price\"].sort_values()"
   ]
  },
  {
   "cell_type": "code",
   "execution_count": 11,
   "id": "9de03708-ac64-424a-bcfc-877480869c9f",
   "metadata": {},
   "outputs": [
    {
     "data": {
      "text/plain": [
       "mileage      -0.537214\n",
       "mpg          -0.438445\n",
       "tax           0.268717\n",
       "engineSize    0.516126\n",
       "year          0.520712\n",
       "price         1.000000\n",
       "Name: price, dtype: float64"
      ]
     },
     "execution_count": 11,
     "metadata": {},
     "output_type": "execute_result"
    }
   ],
   "source": [
    "price_corr"
   ]
  },
  {
   "cell_type": "code",
   "execution_count": 12,
   "id": "2c8fdf73-3972-43da-a14c-81a97628247f",
   "metadata": {},
   "outputs": [
    {
     "data": {
      "text/plain": [
       "<Axes: xlabel='mileage', ylabel='price'>"
      ]
     },
     "execution_count": 12,
     "metadata": {},
     "output_type": "execute_result"
    },
    {
     "data": {
      "image/png": "[encoded data removed]",
      "text/plain": [
       "<Figure size 640x480 with 1 Axes>"
      ]
     },
     "metadata": {},
     "output_type": "display_data"
    }
   ],
   "source": [
    "sbn.scatterplot(x=\"mileage\", y=\"price\",data = dataFrame)"
   ]
  },
  {
   "cell_type": "code",
   "execution_count": 13,
   "id": "4009f780-f561-4680-8505-a9ecbba2bb52",
   "metadata": {},
   "outputs": [
    {
     "data": {
      "text/plain": [
       "<Axes: xlabel='mpg', ylabel='price'>"
      ]
     },
     "execution_count": 13,
     "metadata": {},
     "output_type": "execute_result"
    },
    {
     "data": {
      "image/png": "[encoded data removed]",
      "text/plain": [
       "<Figure size 640x480 with 1 Axes>"
      ]
     },
     "metadata": {},
     "output_type": "display_data"
    }
   ],
   "source": [
    "sbn.scatterplot(x=\"mpg\", y=\"price\",data = dataFrame)"
   ]
  },
  {
   "cell_type": "code",
   "execution_count": 14,
   "id": "e997f131-8ad4-4cf5-a7e6-2853bee7820d",
   "metadata": {},
   "outputs": [
    {
     "data": {
      "text/plain": [
       "<Axes: xlabel='tax', ylabel='price'>"
      ]
     },
     "execution_count": 14,
     "metadata": {},
     "output_type": "execute_result"
    },
    {
     "data": {
      "image/png": "[encoded data removed]",
      "text/plain": [
       "<Figure size 640x480 with 1 Axes>"
      ]
     },
     "metadata": {},
     "output_type": "display_data"
    }
   ],
   "source": [
    "sbn.scatterplot(x=\"tax\", y=\"price\",data = dataFrame)"
   ]
  },
  {
   "cell_type": "code",
   "execution_count": 15,
   "id": "268f7f1a-79a8-40d3-983e-262a7b657689",
   "metadata": {},
   "outputs": [
    {
     "data": {
      "text/plain": [
       "<Axes: xlabel='engineSize', ylabel='price'>"
      ]
     },
     "execution_count": 15,
     "metadata": {},
     "output_type": "execute_result"
    },
    {
     "data": {
      "image/png": "[encoded data removed]",
      "text/plain": [
       "<Figure size 640x480 with 1 Axes>"
      ]
     },
     "metadata": {},
     "output_type": "display_data"
    }
   ],
   "source": [
    "sbn.scatterplot(x=\"engineSize\", y=\"price\",data = dataFrame)"
   ]
  },
  {
   "cell_type": "code",
   "execution_count": 16,
   "id": "1cf8f899-37ce-4225-9ccf-876f40230180",
   "metadata": {},
   "outputs": [
    {
     "data": {
      "text/plain": [
       "<Axes: xlabel='year', ylabel='price'>"
      ]
     },
     "execution_count": 16,
     "metadata": {},
     "output_type": "execute_result"
    },
    {
     "data": {
      "image/png": "[encoded data removed]",
      "text/plain": [
       "<Figure size 640x480 with 1 Axes>"
      ]
     },
     "metadata": {},
     "output_type": "display_data"
    }
   ],
   "source": [
    "sbn.scatterplot(x=\"year\", y=\"price\",data = dataFrame)"
   ]
  },
  {
   "cell_type": "code",
   "execution_count": 17,
   "id": "6fe69a94-9f0c-4d87-96f1-b9a6eae872bf",
   "metadata": {},
   "outputs": [
    {
     "data": {
      "text/html": [
       "<div>\n",
       "<style scoped>\n",
       "    .dataframe tbody tr th:only-of-type {\n",
       "        vertical-align: middle;\n",
       "    }\n",
       "\n",
       "    .dataframe tbody tr th {\n",
       "        vertical-align: top;\n",
       "    }\n",
       "\n",
       "    .dataframe thead th {\n",
       "        text-align: right;\n",
       "    }\n",
       "</style>\n",
       "<table border=\"1\" class=\"dataframe\">\n",
       "  <thead>\n",
       "    <tr style=\"text-align: right;\">\n",
       "      <th></th>\n",
       "      <th>year</th>\n",
       "      <th>price</th>\n",
       "      <th>transmission</th>\n",
       "      <th>mileage</th>\n",
       "      <th>tax</th>\n",
       "      <th>mpg</th>\n",
       "      <th>engineSize</th>\n",
       "    </tr>\n",
       "  </thead>\n",
       "  <tbody>\n",
       "    <tr>\n",
       "      <th>6199</th>\n",
       "      <td>2020</td>\n",
       "      <td>159999</td>\n",
       "      <td>Semi-Auto</td>\n",
       "      <td>1350</td>\n",
       "      <td>145</td>\n",
       "      <td>21.4</td>\n",
       "      <td>4.0</td>\n",
       "    </tr>\n",
       "    <tr>\n",
       "      <th>10044</th>\n",
       "      <td>2020</td>\n",
       "      <td>154998</td>\n",
       "      <td>Automatic</td>\n",
       "      <td>3000</td>\n",
       "      <td>150</td>\n",
       "      <td>21.4</td>\n",
       "      <td>4.0</td>\n",
       "    </tr>\n",
       "    <tr>\n",
       "      <th>5</th>\n",
       "      <td>2011</td>\n",
       "      <td>149948</td>\n",
       "      <td>Automatic</td>\n",
       "      <td>3000</td>\n",
       "      <td>570</td>\n",
       "      <td>21.4</td>\n",
       "      <td>6.2</td>\n",
       "    </tr>\n",
       "    <tr>\n",
       "      <th>8737</th>\n",
       "      <td>2019</td>\n",
       "      <td>140319</td>\n",
       "      <td>Semi-Auto</td>\n",
       "      <td>785</td>\n",
       "      <td>150</td>\n",
       "      <td>22.1</td>\n",
       "      <td>4.0</td>\n",
       "    </tr>\n",
       "    <tr>\n",
       "      <th>6386</th>\n",
       "      <td>2018</td>\n",
       "      <td>139995</td>\n",
       "      <td>Semi-Auto</td>\n",
       "      <td>13046</td>\n",
       "      <td>145</td>\n",
       "      <td>21.4</td>\n",
       "      <td>4.0</td>\n",
       "    </tr>\n",
       "    <tr>\n",
       "      <th>8</th>\n",
       "      <td>2019</td>\n",
       "      <td>139948</td>\n",
       "      <td>Automatic</td>\n",
       "      <td>12000</td>\n",
       "      <td>145</td>\n",
       "      <td>21.4</td>\n",
       "      <td>4.0</td>\n",
       "    </tr>\n",
       "    <tr>\n",
       "      <th>9133</th>\n",
       "      <td>2019</td>\n",
       "      <td>139559</td>\n",
       "      <td>Semi-Auto</td>\n",
       "      <td>1000</td>\n",
       "      <td>145</td>\n",
       "      <td>22.1</td>\n",
       "      <td>4.0</td>\n",
       "    </tr>\n",
       "    <tr>\n",
       "      <th>8821</th>\n",
       "      <td>2020</td>\n",
       "      <td>138439</td>\n",
       "      <td>Semi-Auto</td>\n",
       "      <td>1000</td>\n",
       "      <td>145</td>\n",
       "      <td>22.1</td>\n",
       "      <td>4.0</td>\n",
       "    </tr>\n",
       "    <tr>\n",
       "      <th>5902</th>\n",
       "      <td>2018</td>\n",
       "      <td>135771</td>\n",
       "      <td>Semi-Auto</td>\n",
       "      <td>19000</td>\n",
       "      <td>145</td>\n",
       "      <td>21.4</td>\n",
       "      <td>4.0</td>\n",
       "    </tr>\n",
       "    <tr>\n",
       "      <th>7864</th>\n",
       "      <td>2018</td>\n",
       "      <td>135124</td>\n",
       "      <td>Semi-Auto</td>\n",
       "      <td>18234</td>\n",
       "      <td>150</td>\n",
       "      <td>21.4</td>\n",
       "      <td>4.0</td>\n",
       "    </tr>\n",
       "    <tr>\n",
       "      <th>8673</th>\n",
       "      <td>2019</td>\n",
       "      <td>134219</td>\n",
       "      <td>Semi-Auto</td>\n",
       "      <td>1000</td>\n",
       "      <td>145</td>\n",
       "      <td>24.8</td>\n",
       "      <td>4.0</td>\n",
       "    </tr>\n",
       "    <tr>\n",
       "      <th>6210</th>\n",
       "      <td>2019</td>\n",
       "      <td>129990</td>\n",
       "      <td>Automatic</td>\n",
       "      <td>1000</td>\n",
       "      <td>145</td>\n",
       "      <td>24.8</td>\n",
       "      <td>4.0</td>\n",
       "    </tr>\n",
       "    <tr>\n",
       "      <th>4759</th>\n",
       "      <td>2019</td>\n",
       "      <td>126000</td>\n",
       "      <td>Automatic</td>\n",
       "      <td>250</td>\n",
       "      <td>145</td>\n",
       "      <td>24.6</td>\n",
       "      <td>4.0</td>\n",
       "    </tr>\n",
       "    <tr>\n",
       "      <th>2647</th>\n",
       "      <td>2019</td>\n",
       "      <td>125796</td>\n",
       "      <td>Automatic</td>\n",
       "      <td>637</td>\n",
       "      <td>145</td>\n",
       "      <td>24.8</td>\n",
       "      <td>4.0</td>\n",
       "    </tr>\n",
       "    <tr>\n",
       "      <th>6223</th>\n",
       "      <td>2019</td>\n",
       "      <td>124999</td>\n",
       "      <td>Automatic</td>\n",
       "      <td>1500</td>\n",
       "      <td>145</td>\n",
       "      <td>31.7</td>\n",
       "      <td>4.0</td>\n",
       "    </tr>\n",
       "    <tr>\n",
       "      <th>4094</th>\n",
       "      <td>2019</td>\n",
       "      <td>124366</td>\n",
       "      <td>Semi-Auto</td>\n",
       "      <td>880</td>\n",
       "      <td>145</td>\n",
       "      <td>24.8</td>\n",
       "      <td>4.0</td>\n",
       "    </tr>\n",
       "    <tr>\n",
       "      <th>2629</th>\n",
       "      <td>2019</td>\n",
       "      <td>123846</td>\n",
       "      <td>Semi-Auto</td>\n",
       "      <td>2951</td>\n",
       "      <td>145</td>\n",
       "      <td>22.1</td>\n",
       "      <td>4.0</td>\n",
       "    </tr>\n",
       "    <tr>\n",
       "      <th>7134</th>\n",
       "      <td>2019</td>\n",
       "      <td>115359</td>\n",
       "      <td>Semi-Auto</td>\n",
       "      <td>1000</td>\n",
       "      <td>145</td>\n",
       "      <td>30.1</td>\n",
       "      <td>4.0</td>\n",
       "    </tr>\n",
       "    <tr>\n",
       "      <th>9159</th>\n",
       "      <td>2019</td>\n",
       "      <td>114199</td>\n",
       "      <td>Semi-Auto</td>\n",
       "      <td>891</td>\n",
       "      <td>145</td>\n",
       "      <td>22.6</td>\n",
       "      <td>4.0</td>\n",
       "    </tr>\n",
       "    <tr>\n",
       "      <th>1980</th>\n",
       "      <td>2019</td>\n",
       "      <td>109995</td>\n",
       "      <td>Semi-Auto</td>\n",
       "      <td>4688</td>\n",
       "      <td>150</td>\n",
       "      <td>31.7</td>\n",
       "      <td>4.0</td>\n",
       "    </tr>\n",
       "  </tbody>\n",
       "</table>\n",
       "</div>"
      ],
      "text/plain": [
       "       year   price transmission  mileage  tax   mpg  engineSize\n",
       "6199   2020  159999    Semi-Auto     1350  145  21.4         4.0\n",
       "10044  2020  154998    Automatic     3000  150  21.4         4.0\n",
       "5      2011  149948    Automatic     3000  570  21.4         6.2\n",
       "8737   2019  140319    Semi-Auto      785  150  22.1         4.0\n",
       "6386   2018  139995    Semi-Auto    13046  145  21.4         4.0\n",
       "8      2019  139948    Automatic    12000  145  21.4         4.0\n",
       "9133   2019  139559    Semi-Auto     1000  145  22.1         4.0\n",
       "8821   2020  138439    Semi-Auto     1000  145  22.1         4.0\n",
       "5902   2018  135771    Semi-Auto    19000  145  21.4         4.0\n",
       "7864   2018  135124    Semi-Auto    18234  150  21.4         4.0\n",
       "8673   2019  134219    Semi-Auto     1000  145  24.8         4.0\n",
       "6210   2019  129990    Automatic     1000  145  24.8         4.0\n",
       "4759   2019  126000    Automatic      250  145  24.6         4.0\n",
       "2647   2019  125796    Automatic      637  145  24.8         4.0\n",
       "6223   2019  124999    Automatic     1500  145  31.7         4.0\n",
       "4094   2019  124366    Semi-Auto      880  145  24.8         4.0\n",
       "2629   2019  123846    Semi-Auto     2951  145  22.1         4.0\n",
       "7134   2019  115359    Semi-Auto     1000  145  30.1         4.0\n",
       "9159   2019  114199    Semi-Auto      891  145  22.6         4.0\n",
       "1980   2019  109995    Semi-Auto     4688  150  31.7         4.0"
      ]
     },
     "execution_count": 17,
     "metadata": {},
     "output_type": "execute_result"
    }
   ],
   "source": [
    "# Ascending false olması fiyatı çok olandan az olana doğru ilerlediğini gösteriyor\n",
    "dataFrame.sort_values(\"price\",ascending = False).head(20)"
   ]
  },
  {
   "cell_type": "code",
   "execution_count": 18,
   "id": "e20000dd-0b44-4540-8d5f-d615e3b61a7e",
   "metadata": {},
   "outputs": [
    {
     "data": {
      "text/plain": [
       "13119"
      ]
     },
     "execution_count": 18,
     "metadata": {},
     "output_type": "execute_result"
    }
   ],
   "source": [
    "len(dataFrame)"
   ]
  },
  {
   "cell_type": "code",
   "execution_count": 19,
   "id": "54c126a2-22f0-4006-9888-b3d719104393",
   "metadata": {},
   "outputs": [
    {
     "data": {
      "text/plain": [
       "131.19"
      ]
     },
     "execution_count": 19,
     "metadata": {},
     "output_type": "execute_result"
    }
   ],
   "source": [
    "len(dataFrame)*0.01"
   ]
  },
  {
   "cell_type": "code",
   "execution_count": 20,
   "id": "8b9f6210-50e9-4ac0-9893-55e06b0dd0b3",
   "metadata": {},
   "outputs": [],
   "source": [
    "temizlenmisVeri = dataFrame.sort_values(\"price\",ascending = False).iloc[131:]"
   ]
  },
  {
   "cell_type": "code",
   "execution_count": 21,
   "id": "38c54411-0aa4-445b-9ff6-23ffc5f6f0c1",
   "metadata": {},
   "outputs": [
    {
     "data": {
      "text/html": [
       "<div>\n",
       "<style scoped>\n",
       "    .dataframe tbody tr th:only-of-type {\n",
       "        vertical-align: middle;\n",
       "    }\n",
       "\n",
       "    .dataframe tbody tr th {\n",
       "        vertical-align: top;\n",
       "    }\n",
       "\n",
       "    .dataframe thead th {\n",
       "        text-align: right;\n",
       "    }\n",
       "</style>\n",
       "<table border=\"1\" class=\"dataframe\">\n",
       "  <thead>\n",
       "    <tr style=\"text-align: right;\">\n",
       "      <th></th>\n",
       "      <th>year</th>\n",
       "      <th>price</th>\n",
       "      <th>transmission</th>\n",
       "      <th>mileage</th>\n",
       "      <th>tax</th>\n",
       "      <th>mpg</th>\n",
       "      <th>engineSize</th>\n",
       "    </tr>\n",
       "  </thead>\n",
       "  <tbody>\n",
       "    <tr>\n",
       "      <th>6177</th>\n",
       "      <td>2019</td>\n",
       "      <td>65990</td>\n",
       "      <td>Semi-Auto</td>\n",
       "      <td>5076</td>\n",
       "      <td>150</td>\n",
       "      <td>30.4</td>\n",
       "      <td>3.0</td>\n",
       "    </tr>\n",
       "    <tr>\n",
       "      <th>5779</th>\n",
       "      <td>2020</td>\n",
       "      <td>65990</td>\n",
       "      <td>Semi-Auto</td>\n",
       "      <td>999</td>\n",
       "      <td>145</td>\n",
       "      <td>28.0</td>\n",
       "      <td>4.0</td>\n",
       "    </tr>\n",
       "    <tr>\n",
       "      <th>3191</th>\n",
       "      <td>2020</td>\n",
       "      <td>65980</td>\n",
       "      <td>Semi-Auto</td>\n",
       "      <td>3999</td>\n",
       "      <td>145</td>\n",
       "      <td>28.0</td>\n",
       "      <td>4.0</td>\n",
       "    </tr>\n",
       "    <tr>\n",
       "      <th>4727</th>\n",
       "      <td>2019</td>\n",
       "      <td>65000</td>\n",
       "      <td>Semi-Auto</td>\n",
       "      <td>3398</td>\n",
       "      <td>145</td>\n",
       "      <td>27.2</td>\n",
       "      <td>4.0</td>\n",
       "    </tr>\n",
       "    <tr>\n",
       "      <th>8814</th>\n",
       "      <td>2019</td>\n",
       "      <td>64999</td>\n",
       "      <td>Semi-Auto</td>\n",
       "      <td>119</td>\n",
       "      <td>145</td>\n",
       "      <td>40.9</td>\n",
       "      <td>3.0</td>\n",
       "    </tr>\n",
       "    <tr>\n",
       "      <th>...</th>\n",
       "      <td>...</td>\n",
       "      <td>...</td>\n",
       "      <td>...</td>\n",
       "      <td>...</td>\n",
       "      <td>...</td>\n",
       "      <td>...</td>\n",
       "      <td>...</td>\n",
       "    </tr>\n",
       "    <tr>\n",
       "      <th>11549</th>\n",
       "      <td>2002</td>\n",
       "      <td>1495</td>\n",
       "      <td>Automatic</td>\n",
       "      <td>13800</td>\n",
       "      <td>305</td>\n",
       "      <td>39.8</td>\n",
       "      <td>2.7</td>\n",
       "    </tr>\n",
       "    <tr>\n",
       "      <th>12594</th>\n",
       "      <td>2004</td>\n",
       "      <td>1495</td>\n",
       "      <td>Manual</td>\n",
       "      <td>119000</td>\n",
       "      <td>300</td>\n",
       "      <td>34.5</td>\n",
       "      <td>1.8</td>\n",
       "    </tr>\n",
       "    <tr>\n",
       "      <th>11765</th>\n",
       "      <td>2000</td>\n",
       "      <td>1490</td>\n",
       "      <td>Automatic</td>\n",
       "      <td>87000</td>\n",
       "      <td>265</td>\n",
       "      <td>27.2</td>\n",
       "      <td>3.2</td>\n",
       "    </tr>\n",
       "    <tr>\n",
       "      <th>12008</th>\n",
       "      <td>2010</td>\n",
       "      <td>1350</td>\n",
       "      <td>Manual</td>\n",
       "      <td>116126</td>\n",
       "      <td>145</td>\n",
       "      <td>54.3</td>\n",
       "      <td>2.0</td>\n",
       "    </tr>\n",
       "    <tr>\n",
       "      <th>11816</th>\n",
       "      <td>2003</td>\n",
       "      <td>650</td>\n",
       "      <td>Manual</td>\n",
       "      <td>109090</td>\n",
       "      <td>235</td>\n",
       "      <td>40.0</td>\n",
       "      <td>1.4</td>\n",
       "    </tr>\n",
       "  </tbody>\n",
       "</table>\n",
       "<p>12988 rows × 7 columns</p>\n",
       "</div>"
      ],
      "text/plain": [
       "       year  price transmission  mileage  tax   mpg  engineSize\n",
       "6177   2019  65990    Semi-Auto     5076  150  30.4         3.0\n",
       "5779   2020  65990    Semi-Auto      999  145  28.0         4.0\n",
       "3191   2020  65980    Semi-Auto     3999  145  28.0         4.0\n",
       "4727   2019  65000    Semi-Auto     3398  145  27.2         4.0\n",
       "8814   2019  64999    Semi-Auto      119  145  40.9         3.0\n",
       "...     ...    ...          ...      ...  ...   ...         ...\n",
       "11549  2002   1495    Automatic    13800  305  39.8         2.7\n",
       "12594  2004   1495       Manual   119000  300  34.5         1.8\n",
       "11765  2000   1490    Automatic    87000  265  27.2         3.2\n",
       "12008  2010   1350       Manual   116126  145  54.3         2.0\n",
       "11816  2003    650       Manual   109090  235  40.0         1.4\n",
       "\n",
       "[12988 rows x 7 columns]"
      ]
     },
     "execution_count": 21,
     "metadata": {},
     "output_type": "execute_result"
    }
   ],
   "source": [
    "temizlenmisVeri"
   ]
  },
  {
   "cell_type": "code",
   "execution_count": 22,
   "id": "bbcc5c36-ac3b-461b-9e8d-ee45c6b2e95f",
   "metadata": {},
   "outputs": [
    {
     "data": {
      "text/html": [
       "<div>\n",
       "<style scoped>\n",
       "    .dataframe tbody tr th:only-of-type {\n",
       "        vertical-align: middle;\n",
       "    }\n",
       "\n",
       "    .dataframe tbody tr th {\n",
       "        vertical-align: top;\n",
       "    }\n",
       "\n",
       "    .dataframe thead th {\n",
       "        text-align: right;\n",
       "    }\n",
       "</style>\n",
       "<table border=\"1\" class=\"dataframe\">\n",
       "  <thead>\n",
       "    <tr style=\"text-align: right;\">\n",
       "      <th></th>\n",
       "      <th>year</th>\n",
       "      <th>price</th>\n",
       "      <th>mileage</th>\n",
       "      <th>tax</th>\n",
       "      <th>mpg</th>\n",
       "      <th>engineSize</th>\n",
       "    </tr>\n",
       "  </thead>\n",
       "  <tbody>\n",
       "    <tr>\n",
       "      <th>count</th>\n",
       "      <td>12988.000000</td>\n",
       "      <td>12988.000000</td>\n",
       "      <td>12988.000000</td>\n",
       "      <td>12988.000000</td>\n",
       "      <td>12988.000000</td>\n",
       "      <td>12988.000000</td>\n",
       "    </tr>\n",
       "    <tr>\n",
       "      <th>mean</th>\n",
       "      <td>2017.281876</td>\n",
       "      <td>24074.926933</td>\n",
       "      <td>22132.741146</td>\n",
       "      <td>129.689714</td>\n",
       "      <td>55.437142</td>\n",
       "      <td>2.050901</td>\n",
       "    </tr>\n",
       "    <tr>\n",
       "      <th>std</th>\n",
       "      <td>2.228515</td>\n",
       "      <td>9866.224575</td>\n",
       "      <td>21196.776401</td>\n",
       "      <td>65.183076</td>\n",
       "      <td>15.025999</td>\n",
       "      <td>0.532596</td>\n",
       "    </tr>\n",
       "    <tr>\n",
       "      <th>min</th>\n",
       "      <td>1970.000000</td>\n",
       "      <td>650.000000</td>\n",
       "      <td>1.000000</td>\n",
       "      <td>0.000000</td>\n",
       "      <td>1.100000</td>\n",
       "      <td>0.000000</td>\n",
       "    </tr>\n",
       "    <tr>\n",
       "      <th>25%</th>\n",
       "      <td>2016.000000</td>\n",
       "      <td>17357.500000</td>\n",
       "      <td>6322.000000</td>\n",
       "      <td>125.000000</td>\n",
       "      <td>45.600000</td>\n",
       "      <td>1.675000</td>\n",
       "    </tr>\n",
       "    <tr>\n",
       "      <th>50%</th>\n",
       "      <td>2018.000000</td>\n",
       "      <td>22299.000000</td>\n",
       "      <td>15369.500000</td>\n",
       "      <td>145.000000</td>\n",
       "      <td>56.500000</td>\n",
       "      <td>2.000000</td>\n",
       "    </tr>\n",
       "    <tr>\n",
       "      <th>75%</th>\n",
       "      <td>2019.000000</td>\n",
       "      <td>28706.000000</td>\n",
       "      <td>31982.250000</td>\n",
       "      <td>145.000000</td>\n",
       "      <td>64.200000</td>\n",
       "      <td>2.100000</td>\n",
       "    </tr>\n",
       "    <tr>\n",
       "      <th>max</th>\n",
       "      <td>2020.000000</td>\n",
       "      <td>65990.000000</td>\n",
       "      <td>259000.000000</td>\n",
       "      <td>580.000000</td>\n",
       "      <td>217.300000</td>\n",
       "      <td>6.200000</td>\n",
       "    </tr>\n",
       "  </tbody>\n",
       "</table>\n",
       "</div>"
      ],
      "text/plain": [
       "               year         price        mileage           tax           mpg  \\\n",
       "count  12988.000000  12988.000000   12988.000000  12988.000000  12988.000000   \n",
       "mean    2017.281876  24074.926933   22132.741146    129.689714     55.437142   \n",
       "std        2.228515   9866.224575   21196.776401     65.183076     15.025999   \n",
       "min     1970.000000    650.000000       1.000000      0.000000      1.100000   \n",
       "25%     2016.000000  17357.500000    6322.000000    125.000000     45.600000   \n",
       "50%     2018.000000  22299.000000   15369.500000    145.000000     56.500000   \n",
       "75%     2019.000000  28706.000000   31982.250000    145.000000     64.200000   \n",
       "max     2020.000000  65990.000000  259000.000000    580.000000    217.300000   \n",
       "\n",
       "         engineSize  \n",
       "count  12988.000000  \n",
       "mean       2.050901  \n",
       "std        0.532596  \n",
       "min        0.000000  \n",
       "25%        1.675000  \n",
       "50%        2.000000  \n",
       "75%        2.100000  \n",
       "max        6.200000  "
      ]
     },
     "execution_count": 22,
     "metadata": {},
     "output_type": "execute_result"
    }
   ],
   "source": [
    "temizlenmisVeri.describe()"
   ]
  },
  {
   "cell_type": "code",
   "execution_count": 23,
   "id": "9bf2c0fd-81cd-437d-8620-00cab5d5728d",
   "metadata": {},
   "outputs": [
    {
     "data": {
      "text/plain": [
       "<seaborn.axisgrid.FacetGrid at 0x2b03d6635b0>"
      ]
     },
     "execution_count": 23,
     "metadata": {},
     "output_type": "execute_result"
    },
    {
     "data": {
      "text/plain": [
       "<Figure size 700x500 with 0 Axes>"
      ]
     },
     "metadata": {},
     "output_type": "display_data"
    },
    {
     "data": {
      "image/png": "[encoded data removed]",
      "text/plain": [
       "<Figure size 500x500 with 1 Axes>"
      ]
     },
     "metadata": {},
     "output_type": "display_data"
    }
   ],
   "source": [
    "plt.figure(figsize = (7,5))\n",
    "sbn.displot(temizlenmisVeri[\"price\"])"
   ]
  },
  {
   "cell_type": "code",
   "execution_count": 24,
   "id": "ac6939bc-526d-4e40-b53b-319542e8ea84",
   "metadata": {},
   "outputs": [],
   "source": [
    "dataFrame = temizlenmisVeri"
   ]
  },
  {
   "cell_type": "code",
   "execution_count": 25,
   "id": "4090d3aa-ce0e-457d-90d7-597b82dfbfb3",
   "metadata": {},
   "outputs": [
    {
     "data": {
      "text/html": [
       "<div>\n",
       "<style scoped>\n",
       "    .dataframe tbody tr th:only-of-type {\n",
       "        vertical-align: middle;\n",
       "    }\n",
       "\n",
       "    .dataframe tbody tr th {\n",
       "        vertical-align: top;\n",
       "    }\n",
       "\n",
       "    .dataframe thead th {\n",
       "        text-align: right;\n",
       "    }\n",
       "</style>\n",
       "<table border=\"1\" class=\"dataframe\">\n",
       "  <thead>\n",
       "    <tr style=\"text-align: right;\">\n",
       "      <th></th>\n",
       "      <th>year</th>\n",
       "      <th>price</th>\n",
       "      <th>mileage</th>\n",
       "      <th>tax</th>\n",
       "      <th>mpg</th>\n",
       "      <th>engineSize</th>\n",
       "    </tr>\n",
       "  </thead>\n",
       "  <tbody>\n",
       "    <tr>\n",
       "      <th>count</th>\n",
       "      <td>12988.000000</td>\n",
       "      <td>12988.000000</td>\n",
       "      <td>12988.000000</td>\n",
       "      <td>12988.000000</td>\n",
       "      <td>12988.000000</td>\n",
       "      <td>12988.000000</td>\n",
       "    </tr>\n",
       "    <tr>\n",
       "      <th>mean</th>\n",
       "      <td>2017.281876</td>\n",
       "      <td>24074.926933</td>\n",
       "      <td>22132.741146</td>\n",
       "      <td>129.689714</td>\n",
       "      <td>55.437142</td>\n",
       "      <td>2.050901</td>\n",
       "    </tr>\n",
       "    <tr>\n",
       "      <th>std</th>\n",
       "      <td>2.228515</td>\n",
       "      <td>9866.224575</td>\n",
       "      <td>21196.776401</td>\n",
       "      <td>65.183076</td>\n",
       "      <td>15.025999</td>\n",
       "      <td>0.532596</td>\n",
       "    </tr>\n",
       "    <tr>\n",
       "      <th>min</th>\n",
       "      <td>1970.000000</td>\n",
       "      <td>650.000000</td>\n",
       "      <td>1.000000</td>\n",
       "      <td>0.000000</td>\n",
       "      <td>1.100000</td>\n",
       "      <td>0.000000</td>\n",
       "    </tr>\n",
       "    <tr>\n",
       "      <th>25%</th>\n",
       "      <td>2016.000000</td>\n",
       "      <td>17357.500000</td>\n",
       "      <td>6322.000000</td>\n",
       "      <td>125.000000</td>\n",
       "      <td>45.600000</td>\n",
       "      <td>1.675000</td>\n",
       "    </tr>\n",
       "    <tr>\n",
       "      <th>50%</th>\n",
       "      <td>2018.000000</td>\n",
       "      <td>22299.000000</td>\n",
       "      <td>15369.500000</td>\n",
       "      <td>145.000000</td>\n",
       "      <td>56.500000</td>\n",
       "      <td>2.000000</td>\n",
       "    </tr>\n",
       "    <tr>\n",
       "      <th>75%</th>\n",
       "      <td>2019.000000</td>\n",
       "      <td>28706.000000</td>\n",
       "      <td>31982.250000</td>\n",
       "      <td>145.000000</td>\n",
       "      <td>64.200000</td>\n",
       "      <td>2.100000</td>\n",
       "    </tr>\n",
       "    <tr>\n",
       "      <th>max</th>\n",
       "      <td>2020.000000</td>\n",
       "      <td>65990.000000</td>\n",
       "      <td>259000.000000</td>\n",
       "      <td>580.000000</td>\n",
       "      <td>217.300000</td>\n",
       "      <td>6.200000</td>\n",
       "    </tr>\n",
       "  </tbody>\n",
       "</table>\n",
       "</div>"
      ],
      "text/plain": [
       "               year         price        mileage           tax           mpg  \\\n",
       "count  12988.000000  12988.000000   12988.000000  12988.000000  12988.000000   \n",
       "mean    2017.281876  24074.926933   22132.741146    129.689714     55.437142   \n",
       "std        2.228515   9866.224575   21196.776401     65.183076     15.025999   \n",
       "min     1970.000000    650.000000       1.000000      0.000000      1.100000   \n",
       "25%     2016.000000  17357.500000    6322.000000    125.000000     45.600000   \n",
       "50%     2018.000000  22299.000000   15369.500000    145.000000     56.500000   \n",
       "75%     2019.000000  28706.000000   31982.250000    145.000000     64.200000   \n",
       "max     2020.000000  65990.000000  259000.000000    580.000000    217.300000   \n",
       "\n",
       "         engineSize  \n",
       "count  12988.000000  \n",
       "mean       2.050901  \n",
       "std        0.532596  \n",
       "min        0.000000  \n",
       "25%        1.675000  \n",
       "50%        2.000000  \n",
       "75%        2.100000  \n",
       "max        6.200000  "
      ]
     },
     "execution_count": 25,
     "metadata": {},
     "output_type": "execute_result"
    }
   ],
   "source": [
    "dataFrame.describe()"
   ]
  },
  {
   "cell_type": "code",
   "execution_count": 26,
   "id": "0559a27e-c9f1-4b52-a0a9-31ee76a87ac8",
   "metadata": {},
   "outputs": [],
   "source": [
    "dataFrame = dataFrame[dataFrame.year != 1970]"
   ]
  },
  {
   "cell_type": "code",
   "execution_count": 27,
   "id": "96e97e8a-3624-4e29-acd0-9f38dade1667",
   "metadata": {},
   "outputs": [
    {
     "data": {
      "text/html": [
       "<div>\n",
       "<style scoped>\n",
       "    .dataframe tbody tr th:only-of-type {\n",
       "        vertical-align: middle;\n",
       "    }\n",
       "\n",
       "    .dataframe tbody tr th {\n",
       "        vertical-align: top;\n",
       "    }\n",
       "\n",
       "    .dataframe thead th {\n",
       "        text-align: right;\n",
       "    }\n",
       "</style>\n",
       "<table border=\"1\" class=\"dataframe\">\n",
       "  <thead>\n",
       "    <tr style=\"text-align: right;\">\n",
       "      <th></th>\n",
       "      <th>year</th>\n",
       "      <th>price</th>\n",
       "      <th>transmission</th>\n",
       "      <th>mileage</th>\n",
       "      <th>tax</th>\n",
       "      <th>mpg</th>\n",
       "      <th>engineSize</th>\n",
       "    </tr>\n",
       "  </thead>\n",
       "  <tbody>\n",
       "    <tr>\n",
       "      <th>6177</th>\n",
       "      <td>2019</td>\n",
       "      <td>65990</td>\n",
       "      <td>Semi-Auto</td>\n",
       "      <td>5076</td>\n",
       "      <td>150</td>\n",
       "      <td>30.4</td>\n",
       "      <td>3.0</td>\n",
       "    </tr>\n",
       "    <tr>\n",
       "      <th>5779</th>\n",
       "      <td>2020</td>\n",
       "      <td>65990</td>\n",
       "      <td>Semi-Auto</td>\n",
       "      <td>999</td>\n",
       "      <td>145</td>\n",
       "      <td>28.0</td>\n",
       "      <td>4.0</td>\n",
       "    </tr>\n",
       "    <tr>\n",
       "      <th>3191</th>\n",
       "      <td>2020</td>\n",
       "      <td>65980</td>\n",
       "      <td>Semi-Auto</td>\n",
       "      <td>3999</td>\n",
       "      <td>145</td>\n",
       "      <td>28.0</td>\n",
       "      <td>4.0</td>\n",
       "    </tr>\n",
       "    <tr>\n",
       "      <th>4727</th>\n",
       "      <td>2019</td>\n",
       "      <td>65000</td>\n",
       "      <td>Semi-Auto</td>\n",
       "      <td>3398</td>\n",
       "      <td>145</td>\n",
       "      <td>27.2</td>\n",
       "      <td>4.0</td>\n",
       "    </tr>\n",
       "    <tr>\n",
       "      <th>8814</th>\n",
       "      <td>2019</td>\n",
       "      <td>64999</td>\n",
       "      <td>Semi-Auto</td>\n",
       "      <td>119</td>\n",
       "      <td>145</td>\n",
       "      <td>40.9</td>\n",
       "      <td>3.0</td>\n",
       "    </tr>\n",
       "  </tbody>\n",
       "</table>\n",
       "</div>"
      ],
      "text/plain": [
       "      year  price transmission  mileage  tax   mpg  engineSize\n",
       "6177  2019  65990    Semi-Auto     5076  150  30.4         3.0\n",
       "5779  2020  65990    Semi-Auto      999  145  28.0         4.0\n",
       "3191  2020  65980    Semi-Auto     3999  145  28.0         4.0\n",
       "4727  2019  65000    Semi-Auto     3398  145  27.2         4.0\n",
       "8814  2019  64999    Semi-Auto      119  145  40.9         3.0"
      ]
     },
     "execution_count": 27,
     "metadata": {},
     "output_type": "execute_result"
    }
   ],
   "source": [
    "dataFrame.head()"
   ]
  },
  {
   "cell_type": "code",
   "execution_count": 28,
   "id": "f16d765d-8d59-4900-a62b-a0b2f906da1e",
   "metadata": {},
   "outputs": [],
   "source": [
    "dataFrame = dataFrame.drop(\"transmission\", axis = 1)"
   ]
  },
  {
   "cell_type": "code",
   "execution_count": 29,
   "id": "d7297b37-b631-40a3-bf8f-85c52d33455c",
   "metadata": {},
   "outputs": [
    {
     "data": {
      "text/html": [
       "<div>\n",
       "<style scoped>\n",
       "    .dataframe tbody tr th:only-of-type {\n",
       "        vertical-align: middle;\n",
       "    }\n",
       "\n",
       "    .dataframe tbody tr th {\n",
       "        vertical-align: top;\n",
       "    }\n",
       "\n",
       "    .dataframe thead th {\n",
       "        text-align: right;\n",
       "    }\n",
       "</style>\n",
       "<table border=\"1\" class=\"dataframe\">\n",
       "  <thead>\n",
       "    <tr style=\"text-align: right;\">\n",
       "      <th></th>\n",
       "      <th>year</th>\n",
       "      <th>price</th>\n",
       "      <th>mileage</th>\n",
       "      <th>tax</th>\n",
       "      <th>mpg</th>\n",
       "      <th>engineSize</th>\n",
       "    </tr>\n",
       "  </thead>\n",
       "  <tbody>\n",
       "    <tr>\n",
       "      <th>6177</th>\n",
       "      <td>2019</td>\n",
       "      <td>65990</td>\n",
       "      <td>5076</td>\n",
       "      <td>150</td>\n",
       "      <td>30.4</td>\n",
       "      <td>3.0</td>\n",
       "    </tr>\n",
       "    <tr>\n",
       "      <th>5779</th>\n",
       "      <td>2020</td>\n",
       "      <td>65990</td>\n",
       "      <td>999</td>\n",
       "      <td>145</td>\n",
       "      <td>28.0</td>\n",
       "      <td>4.0</td>\n",
       "    </tr>\n",
       "    <tr>\n",
       "      <th>3191</th>\n",
       "      <td>2020</td>\n",
       "      <td>65980</td>\n",
       "      <td>3999</td>\n",
       "      <td>145</td>\n",
       "      <td>28.0</td>\n",
       "      <td>4.0</td>\n",
       "    </tr>\n",
       "    <tr>\n",
       "      <th>4727</th>\n",
       "      <td>2019</td>\n",
       "      <td>65000</td>\n",
       "      <td>3398</td>\n",
       "      <td>145</td>\n",
       "      <td>27.2</td>\n",
       "      <td>4.0</td>\n",
       "    </tr>\n",
       "    <tr>\n",
       "      <th>8814</th>\n",
       "      <td>2019</td>\n",
       "      <td>64999</td>\n",
       "      <td>119</td>\n",
       "      <td>145</td>\n",
       "      <td>40.9</td>\n",
       "      <td>3.0</td>\n",
       "    </tr>\n",
       "  </tbody>\n",
       "</table>\n",
       "</div>"
      ],
      "text/plain": [
       "      year  price  mileage  tax   mpg  engineSize\n",
       "6177  2019  65990     5076  150  30.4         3.0\n",
       "5779  2020  65990      999  145  28.0         4.0\n",
       "3191  2020  65980     3999  145  28.0         4.0\n",
       "4727  2019  65000     3398  145  27.2         4.0\n",
       "8814  2019  64999      119  145  40.9         3.0"
      ]
     },
     "execution_count": 29,
     "metadata": {},
     "output_type": "execute_result"
    }
   ],
   "source": [
    "dataFrame.head()"
   ]
  },
  {
   "cell_type": "code",
   "execution_count": 30,
   "id": "6046df0f-80d7-4ff7-9d1c-3bef1ede0868",
   "metadata": {},
   "outputs": [],
   "source": [
    "y = dataFrame['price'].values\n",
    "x = dataFrame.drop(\"price\",axis = 1).values"
   ]
  },
  {
   "cell_type": "code",
   "execution_count": 31,
   "id": "b1b5ebc3-cbcf-4a51-8998-b6d065f80272",
   "metadata": {},
   "outputs": [
    {
     "data": {
      "text/plain": [
       "array([65990, 65990, 65980, ...,  1490,  1350,   650], dtype=int64)"
      ]
     },
     "execution_count": 31,
     "metadata": {},
     "output_type": "execute_result"
    }
   ],
   "source": [
    "y"
   ]
  },
  {
   "cell_type": "code",
   "execution_count": 32,
   "id": "f099ae68-b73a-4beb-b23a-9bef733103f0",
   "metadata": {},
   "outputs": [
    {
     "data": {
      "text/plain": [
       "array([[2.01900e+03, 5.07600e+03, 1.50000e+02, 3.04000e+01, 3.00000e+00],\n",
       "       [2.02000e+03, 9.99000e+02, 1.45000e+02, 2.80000e+01, 4.00000e+00],\n",
       "       [2.02000e+03, 3.99900e+03, 1.45000e+02, 2.80000e+01, 4.00000e+00],\n",
       "       ...,\n",
       "       [2.00000e+03, 8.70000e+04, 2.65000e+02, 2.72000e+01, 3.20000e+00],\n",
       "       [2.01000e+03, 1.16126e+05, 1.45000e+02, 5.43000e+01, 2.00000e+00],\n",
       "       [2.00300e+03, 1.09090e+05, 2.35000e+02, 4.00000e+01, 1.40000e+00]])"
      ]
     },
     "execution_count": 32,
     "metadata": {},
     "output_type": "execute_result"
    }
   ],
   "source": [
    "x"
   ]
  },
  {
   "cell_type": "code",
   "execution_count": 33,
   "id": "0162e679-0a1d-4b52-bb10-36677b34e052",
   "metadata": {},
   "outputs": [],
   "source": [
    "from sklearn.model_selection import train_test_split"
   ]
  },
  {
   "cell_type": "code",
   "execution_count": 34,
   "id": "1623f8cd-632d-4154-a511-8da89d394ee1",
   "metadata": {},
   "outputs": [],
   "source": [
    "x_train,x_test,y_train,y_test = train_test_split(x,y,test_size = 0.3,random_state = 10)"
   ]
  },
  {
   "cell_type": "code",
   "execution_count": 35,
   "id": "49989fc1-17ba-4bdc-a6d7-209f34cc10a4",
   "metadata": {},
   "outputs": [
    {
     "data": {
      "text/plain": [
       "9090"
      ]
     },
     "execution_count": 35,
     "metadata": {},
     "output_type": "execute_result"
    }
   ],
   "source": [
    "len(x_train)"
   ]
  },
  {
   "cell_type": "code",
   "execution_count": 36,
   "id": "b7ab6c55-3143-4df8-880d-fc8ee1dfb0d7",
   "metadata": {},
   "outputs": [
    {
     "data": {
      "text/plain": [
       "3897"
      ]
     },
     "execution_count": 36,
     "metadata": {},
     "output_type": "execute_result"
    }
   ],
   "source": [
    "len(x_test)"
   ]
  },
  {
   "cell_type": "code",
   "execution_count": 37,
   "id": "7984831a-569d-4004-9e1d-defe4bbf190a",
   "metadata": {},
   "outputs": [],
   "source": [
    "from sklearn.preprocessing import MinMaxScaler"
   ]
  },
  {
   "cell_type": "code",
   "execution_count": 38,
   "id": "b69b4fd1-740e-418c-9091-9451618549a2",
   "metadata": {},
   "outputs": [],
   "source": [
    "scaler = MinMaxScaler()"
   ]
  },
  {
   "cell_type": "code",
   "execution_count": 39,
   "id": "40bb3e4b-b623-4b2d-ae19-a8b272d12dad",
   "metadata": {},
   "outputs": [],
   "source": [
    "x_train = scaler.fit_transform(x_train)\n",
    "x_test = scaler.transform(x_test)"
   ]
  },
  {
   "cell_type": "code",
   "execution_count": 40,
   "id": "4f399299-1dbc-4585-a1c9-5e3f4d557049",
   "metadata": {},
   "outputs": [],
   "source": [
    "from tensorflow.keras.models import Sequential\n",
    "from tensorflow.keras.layers import Dense"
   ]
  },
  {
   "cell_type": "code",
   "execution_count": 41,
   "id": "ecaffd63-99a0-468a-a540-74499d16aa59",
   "metadata": {},
   "outputs": [],
   "source": [
    "model = Sequential()\n",
    "\n",
    "# 4 katmanlı 12 nöronlu giriş \n",
    "model.add(Dense(12,activation=\"relu\"))\n",
    "model.add(Dense(12,activation=\"relu\"))\n",
    "model.add(Dense(12,activation=\"relu\"))\n",
    "model.add(Dense(12,activation=\"relu\"))\n",
    "\n",
    "#bir çıkış\n",
    "model.add(Dense(1))\n",
    "model.compile(optimizer=\"adam\",loss=\"mse\")"
   ]
  },
  {
   "cell_type": "code",
   "execution_count": 42,
   "id": "ef7c6d40-6f7a-44f9-97b7-cd36f4557e09",
   "metadata": {},
   "outputs": [
    {
     "name": "stdout",
     "output_type": "stream",
     "text": [
      "Epoch 1/300\n",
      "36/36 [==============================] - 1s 5ms/step - loss: 672149248.0000 - val_loss: 688110336.0000\n",
      "Epoch 2/300\n",
      "36/36 [==============================] - 0s 3ms/step - loss: 672138368.0000 - val_loss: 688092864.0000\n",
      "Epoch 3/300\n",
      "36/36 [==============================] - 0s 3ms/step - loss: 672101760.0000 - val_loss: 688022144.0000\n",
      "Epoch 4/300\n",
      "36/36 [==============================] - 0s 3ms/step - loss: 671943488.0000 - val_loss: 687706816.0000\n",
      "Epoch 5/300\n",
      "36/36 [==============================] - 0s 3ms/step - loss: 671361472.0000 - val_loss: 686707712.0000\n",
      "Epoch 6/300\n",
      "36/36 [==============================] - 0s 3ms/step - loss: 669720960.0000 - val_loss: 684118208.0000\n",
      "Epoch 7/300\n",
      "36/36 [==============================] - 0s 5ms/step - loss: 665867968.0000 - val_loss: 678455488.0000\n",
      "Epoch 8/300\n",
      "36/36 [==============================] - 0s 5ms/step - loss: 658019584.0000 - val_loss: 667585984.0000\n",
      "Epoch 9/300\n",
      "36/36 [==============================] - 0s 5ms/step - loss: 643726144.0000 - val_loss: 648685760.0000\n",
      "Epoch 10/300\n",
      "36/36 [==============================] - 0s 5ms/step - loss: 620043904.0000 - val_loss: 618531712.0000\n",
      "Epoch 11/300\n",
      "36/36 [==============================] - 0s 5ms/step - loss: 583849664.0000 - val_loss: 574146304.0000\n",
      "Epoch 12/300\n",
      "36/36 [==============================] - 0s 5ms/step - loss: 532619328.0000 - val_loss: 513692320.0000\n",
      "Epoch 13/300\n",
      "36/36 [==============================] - 0s 5ms/step - loss: 465535840.0000 - val_loss: 437828480.0000\n",
      "Epoch 14/300\n",
      "36/36 [==============================] - 0s 5ms/step - loss: 385161088.0000 - val_loss: 351010208.0000\n",
      "Epoch 15/300\n",
      "36/36 [==============================] - 0s 5ms/step - loss: 298616096.0000 - val_loss: 262932944.0000\n",
      "Epoch 16/300\n",
      "36/36 [==============================] - 0s 5ms/step - loss: 217112512.0000 - val_loss: 186774336.0000\n",
      "Epoch 17/300\n",
      "36/36 [==============================] - 0s 5ms/step - loss: 152964816.0000 - val_loss: 133052840.0000\n",
      "Epoch 18/300\n",
      "36/36 [==============================] - 0s 5ms/step - loss: 113045552.0000 - val_loss: 104209536.0000\n",
      "Epoch 19/300\n",
      "36/36 [==============================] - 0s 5ms/step - loss: 94558256.0000 - val_loss: 92572752.0000\n",
      "Epoch 20/300\n",
      "36/36 [==============================] - 0s 5ms/step - loss: 88152064.0000 - val_loss: 88772656.0000\n",
      "Epoch 21/300\n",
      "36/36 [==============================] - 0s 4ms/step - loss: 86229352.0000 - val_loss: 87460832.0000\n",
      "Epoch 22/300\n",
      "36/36 [==============================] - 0s 5ms/step - loss: 85462376.0000 - val_loss: 86743144.0000\n",
      "Epoch 23/300\n",
      "36/36 [==============================] - 0s 5ms/step - loss: 84917904.0000 - val_loss: 86206520.0000\n",
      "Epoch 24/300\n",
      "36/36 [==============================] - 0s 5ms/step - loss: 84425368.0000 - val_loss: 85710296.0000\n",
      "Epoch 25/300\n",
      "36/36 [==============================] - 0s 5ms/step - loss: 83953880.0000 - val_loss: 85264784.0000\n",
      "Epoch 26/300\n",
      "36/36 [==============================] - 0s 5ms/step - loss: 83504344.0000 - val_loss: 84833720.0000\n",
      "Epoch 27/300\n",
      "36/36 [==============================] - 0s 5ms/step - loss: 83079560.0000 - val_loss: 84388432.0000\n",
      "Epoch 28/300\n",
      "36/36 [==============================] - 0s 5ms/step - loss: 82644608.0000 - val_loss: 83981744.0000\n",
      "Epoch 29/300\n",
      "36/36 [==============================] - 0s 5ms/step - loss: 82230736.0000 - val_loss: 83564928.0000\n",
      "Epoch 30/300\n",
      "36/36 [==============================] - 0s 5ms/step - loss: 81821464.0000 - val_loss: 83152800.0000\n",
      "Epoch 31/300\n",
      "36/36 [==============================] - 0s 5ms/step - loss: 81411224.0000 - val_loss: 82735088.0000\n",
      "Epoch 32/300\n",
      "36/36 [==============================] - 0s 5ms/step - loss: 81010608.0000 - val_loss: 82350296.0000\n",
      "Epoch 33/300\n",
      "36/36 [==============================] - 0s 4ms/step - loss: 80613720.0000 - val_loss: 81969744.0000\n",
      "Epoch 34/300\n",
      "36/36 [==============================] - 0s 5ms/step - loss: 80224008.0000 - val_loss: 81573568.0000\n",
      "Epoch 35/300\n",
      "36/36 [==============================] - 0s 5ms/step - loss: 79832200.0000 - val_loss: 81177176.0000\n",
      "Epoch 36/300\n",
      "36/36 [==============================] - 0s 4ms/step - loss: 79440008.0000 - val_loss: 80809416.0000\n",
      "Epoch 37/300\n",
      "36/36 [==============================] - 0s 5ms/step - loss: 79047048.0000 - val_loss: 80393800.0000\n",
      "Epoch 38/300\n",
      "36/36 [==============================] - 0s 5ms/step - loss: 78664096.0000 - val_loss: 80003808.0000\n",
      "Epoch 39/300\n",
      "36/36 [==============================] - 0s 5ms/step - loss: 78273088.0000 - val_loss: 79636328.0000\n",
      "Epoch 40/300\n",
      "36/36 [==============================] - 0s 4ms/step - loss: 77885832.0000 - val_loss: 79255496.0000\n",
      "Epoch 41/300\n",
      "36/36 [==============================] - 0s 5ms/step - loss: 77500392.0000 - val_loss: 78886992.0000\n",
      "Epoch 42/300\n",
      "36/36 [==============================] - 0s 5ms/step - loss: 77114424.0000 - val_loss: 78481496.0000\n",
      "Epoch 43/300\n",
      "36/36 [==============================] - 0s 4ms/step - loss: 76729400.0000 - val_loss: 78111104.0000\n",
      "Epoch 44/300\n",
      "36/36 [==============================] - 0s 5ms/step - loss: 76346760.0000 - val_loss: 77744200.0000\n",
      "Epoch 45/300\n",
      "36/36 [==============================] - 0s 4ms/step - loss: 75956936.0000 - val_loss: 77335840.0000\n",
      "Epoch 46/300\n",
      "36/36 [==============================] - 0s 5ms/step - loss: 75577264.0000 - val_loss: 76969336.0000\n",
      "Epoch 47/300\n",
      "36/36 [==============================] - 0s 5ms/step - loss: 75183096.0000 - val_loss: 76583632.0000\n",
      "Epoch 48/300\n",
      "36/36 [==============================] - 0s 5ms/step - loss: 74802960.0000 - val_loss: 76207144.0000\n",
      "Epoch 49/300\n",
      "36/36 [==============================] - 0s 5ms/step - loss: 74410192.0000 - val_loss: 75814520.0000\n",
      "Epoch 50/300\n",
      "36/36 [==============================] - 0s 4ms/step - loss: 74025136.0000 - val_loss: 75410848.0000\n",
      "Epoch 51/300\n",
      "36/36 [==============================] - 0s 5ms/step - loss: 73630080.0000 - val_loss: 75032008.0000\n",
      "Epoch 52/300\n",
      "36/36 [==============================] - 0s 5ms/step - loss: 73237904.0000 - val_loss: 74645880.0000\n",
      "Epoch 53/300\n",
      "36/36 [==============================] - 0s 5ms/step - loss: 72844304.0000 - val_loss: 74254176.0000\n",
      "Epoch 54/300\n",
      "36/36 [==============================] - 0s 5ms/step - loss: 72460232.0000 - val_loss: 73860384.0000\n",
      "Epoch 55/300\n",
      "36/36 [==============================] - 0s 4ms/step - loss: 72053568.0000 - val_loss: 73459616.0000\n",
      "Epoch 56/300\n",
      "36/36 [==============================] - 0s 5ms/step - loss: 71651136.0000 - val_loss: 73074688.0000\n",
      "Epoch 57/300\n",
      "36/36 [==============================] - 0s 3ms/step - loss: 71247880.0000 - val_loss: 72669024.0000\n",
      "Epoch 58/300\n",
      "36/36 [==============================] - 0s 5ms/step - loss: 70849856.0000 - val_loss: 72278600.0000\n",
      "Epoch 59/300\n",
      "36/36 [==============================] - 0s 5ms/step - loss: 70441320.0000 - val_loss: 71863464.0000\n",
      "Epoch 60/300\n",
      "36/36 [==============================] - 0s 5ms/step - loss: 70029360.0000 - val_loss: 71463752.0000\n",
      "Epoch 61/300\n",
      "36/36 [==============================] - 0s 4ms/step - loss: 69622944.0000 - val_loss: 71030024.0000\n",
      "Epoch 62/300\n",
      "36/36 [==============================] - 0s 5ms/step - loss: 69200216.0000 - val_loss: 70659848.0000\n",
      "Epoch 63/300\n",
      "36/36 [==============================] - 0s 5ms/step - loss: 68790064.0000 - val_loss: 70225968.0000\n",
      "Epoch 64/300\n",
      "36/36 [==============================] - 0s 6ms/step - loss: 68378640.0000 - val_loss: 69811504.0000\n",
      "Epoch 65/300\n",
      "36/36 [==============================] - 0s 5ms/step - loss: 67949248.0000 - val_loss: 69391048.0000\n",
      "Epoch 66/300\n",
      "36/36 [==============================] - 0s 5ms/step - loss: 67522328.0000 - val_loss: 68948808.0000\n",
      "Epoch 67/300\n",
      "36/36 [==============================] - 0s 5ms/step - loss: 67084676.0000 - val_loss: 68564904.0000\n",
      "Epoch 68/300\n",
      "36/36 [==============================] - 0s 4ms/step - loss: 66653884.0000 - val_loss: 68118776.0000\n",
      "Epoch 69/300\n",
      "36/36 [==============================] - 0s 5ms/step - loss: 66211136.0000 - val_loss: 67674112.0000\n",
      "Epoch 70/300\n",
      "36/36 [==============================] - 0s 4ms/step - loss: 65783480.0000 - val_loss: 67220384.0000\n",
      "Epoch 71/300\n",
      "36/36 [==============================] - 0s 5ms/step - loss: 65331764.0000 - val_loss: 66800060.0000\n",
      "Epoch 72/300\n",
      "36/36 [==============================] - 0s 6ms/step - loss: 64872012.0000 - val_loss: 66354796.0000\n",
      "Epoch 73/300\n",
      "36/36 [==============================] - 0s 5ms/step - loss: 64413548.0000 - val_loss: 65874704.0000\n",
      "Epoch 74/300\n",
      "36/36 [==============================] - 0s 4ms/step - loss: 63955384.0000 - val_loss: 65404632.0000\n",
      "Epoch 75/300\n",
      "36/36 [==============================] - 0s 5ms/step - loss: 63471124.0000 - val_loss: 64965000.0000\n",
      "Epoch 76/300\n",
      "36/36 [==============================] - 0s 5ms/step - loss: 63008380.0000 - val_loss: 64468396.0000\n",
      "Epoch 77/300\n",
      "36/36 [==============================] - 0s 4ms/step - loss: 62531336.0000 - val_loss: 64008116.0000\n",
      "Epoch 78/300\n",
      "36/36 [==============================] - 0s 5ms/step - loss: 62044532.0000 - val_loss: 63535268.0000\n",
      "Epoch 79/300\n",
      "36/36 [==============================] - 0s 6ms/step - loss: 61544592.0000 - val_loss: 63018760.0000\n",
      "Epoch 80/300\n",
      "36/36 [==============================] - 0s 6ms/step - loss: 61056028.0000 - val_loss: 62509336.0000\n",
      "Epoch 81/300\n",
      "36/36 [==============================] - 0s 5ms/step - loss: 60546800.0000 - val_loss: 61999148.0000\n",
      "Epoch 82/300\n",
      "36/36 [==============================] - 0s 5ms/step - loss: 60043708.0000 - val_loss: 61501052.0000\n",
      "Epoch 83/300\n",
      "36/36 [==============================] - 0s 5ms/step - loss: 59515772.0000 - val_loss: 60979076.0000\n",
      "Epoch 84/300\n",
      "36/36 [==============================] - 0s 5ms/step - loss: 58994752.0000 - val_loss: 60454408.0000\n",
      "Epoch 85/300\n",
      "36/36 [==============================] - 0s 5ms/step - loss: 58449844.0000 - val_loss: 59905724.0000\n",
      "Epoch 86/300\n",
      "36/36 [==============================] - 0s 6ms/step - loss: 57907240.0000 - val_loss: 59360540.0000\n",
      "Epoch 87/300\n",
      "36/36 [==============================] - 0s 6ms/step - loss: 57357488.0000 - val_loss: 58818196.0000\n",
      "Epoch 88/300\n",
      "36/36 [==============================] - 0s 5ms/step - loss: 56797304.0000 - val_loss: 58256516.0000\n",
      "Epoch 89/300\n",
      "36/36 [==============================] - 0s 5ms/step - loss: 56238148.0000 - val_loss: 57680752.0000\n",
      "Epoch 90/300\n",
      "36/36 [==============================] - 0s 6ms/step - loss: 55657676.0000 - val_loss: 57094192.0000\n",
      "Epoch 91/300\n",
      "36/36 [==============================] - 0s 5ms/step - loss: 55073112.0000 - val_loss: 56520692.0000\n",
      "Epoch 92/300\n",
      "36/36 [==============================] - 0s 4ms/step - loss: 54468792.0000 - val_loss: 55893380.0000\n",
      "Epoch 93/300\n",
      "36/36 [==============================] - 0s 5ms/step - loss: 53876048.0000 - val_loss: 55289724.0000\n",
      "Epoch 94/300\n",
      "36/36 [==============================] - 0s 4ms/step - loss: 53253384.0000 - val_loss: 54680188.0000\n",
      "Epoch 95/300\n",
      "36/36 [==============================] - 0s 5ms/step - loss: 52631444.0000 - val_loss: 54036416.0000\n",
      "Epoch 96/300\n",
      "36/36 [==============================] - 0s 5ms/step - loss: 52001956.0000 - val_loss: 53390052.0000\n",
      "Epoch 97/300\n",
      "36/36 [==============================] - 0s 5ms/step - loss: 51378900.0000 - val_loss: 52743332.0000\n",
      "Epoch 98/300\n",
      "36/36 [==============================] - 0s 4ms/step - loss: 50712112.0000 - val_loss: 52081948.0000\n",
      "Epoch 99/300\n",
      "36/36 [==============================] - 0s 5ms/step - loss: 50054804.0000 - val_loss: 51418020.0000\n",
      "Epoch 100/300\n",
      "36/36 [==============================] - 0s 5ms/step - loss: 49379256.0000 - val_loss: 50734180.0000\n",
      "Epoch 101/300\n",
      "36/36 [==============================] - 0s 6ms/step - loss: 48720636.0000 - val_loss: 50039492.0000\n",
      "Epoch 102/300\n",
      "36/36 [==============================] - 0s 5ms/step - loss: 48016020.0000 - val_loss: 49353280.0000\n",
      "Epoch 103/300\n",
      "36/36 [==============================] - 0s 4ms/step - loss: 47344144.0000 - val_loss: 48626472.0000\n",
      "Epoch 104/300\n",
      "36/36 [==============================] - 0s 5ms/step - loss: 46644044.0000 - val_loss: 47924364.0000\n",
      "Epoch 105/300\n",
      "36/36 [==============================] - 0s 5ms/step - loss: 45957744.0000 - val_loss: 47217588.0000\n",
      "Epoch 106/300\n",
      "36/36 [==============================] - 0s 4ms/step - loss: 45241812.0000 - val_loss: 46486876.0000\n",
      "Epoch 107/300\n",
      "36/36 [==============================] - 0s 5ms/step - loss: 44541564.0000 - val_loss: 45799172.0000\n",
      "Epoch 108/300\n",
      "36/36 [==============================] - 0s 3ms/step - loss: 43850680.0000 - val_loss: 45061652.0000\n",
      "Epoch 109/300\n",
      "36/36 [==============================] - 0s 4ms/step - loss: 43146028.0000 - val_loss: 44323500.0000\n",
      "Epoch 110/300\n",
      "36/36 [==============================] - 0s 5ms/step - loss: 42441304.0000 - val_loss: 43623072.0000\n",
      "Epoch 111/300\n",
      "36/36 [==============================] - 0s 5ms/step - loss: 41762500.0000 - val_loss: 42902640.0000\n",
      "Epoch 112/300\n",
      "36/36 [==============================] - 0s 5ms/step - loss: 41087432.0000 - val_loss: 42215796.0000\n",
      "Epoch 113/300\n",
      "36/36 [==============================] - 0s 3ms/step - loss: 40421484.0000 - val_loss: 41519164.0000\n",
      "Epoch 114/300\n",
      "36/36 [==============================] - 0s 6ms/step - loss: 39776732.0000 - val_loss: 40837460.0000\n",
      "Epoch 115/300\n",
      "36/36 [==============================] - 0s 4ms/step - loss: 39113408.0000 - val_loss: 40160512.0000\n",
      "Epoch 116/300\n",
      "36/36 [==============================] - 0s 5ms/step - loss: 38475136.0000 - val_loss: 39502380.0000\n",
      "Epoch 117/300\n",
      "36/36 [==============================] - 0s 5ms/step - loss: 37870720.0000 - val_loss: 38872712.0000\n",
      "Epoch 118/300\n",
      "36/36 [==============================] - 0s 5ms/step - loss: 37297116.0000 - val_loss: 38283708.0000\n",
      "Epoch 119/300\n",
      "36/36 [==============================] - 0s 5ms/step - loss: 36708024.0000 - val_loss: 37682928.0000\n",
      "Epoch 120/300\n",
      "36/36 [==============================] - 0s 5ms/step - loss: 36179404.0000 - val_loss: 37097712.0000\n",
      "Epoch 121/300\n",
      "36/36 [==============================] - 0s 5ms/step - loss: 35629652.0000 - val_loss: 36533876.0000\n",
      "Epoch 122/300\n",
      "36/36 [==============================] - 0s 5ms/step - loss: 35130892.0000 - val_loss: 36006124.0000\n",
      "Epoch 123/300\n",
      "36/36 [==============================] - 0s 5ms/step - loss: 34618128.0000 - val_loss: 35467712.0000\n",
      "Epoch 124/300\n",
      "36/36 [==============================] - 0s 5ms/step - loss: 34128920.0000 - val_loss: 34968000.0000\n",
      "Epoch 125/300\n",
      "36/36 [==============================] - 0s 4ms/step - loss: 33652784.0000 - val_loss: 34466936.0000\n",
      "Epoch 126/300\n",
      "36/36 [==============================] - 0s 5ms/step - loss: 33181770.0000 - val_loss: 33983672.0000\n",
      "Epoch 127/300\n",
      "36/36 [==============================] - 0s 5ms/step - loss: 32728052.0000 - val_loss: 33502794.0000\n",
      "Epoch 128/300\n",
      "36/36 [==============================] - 0s 4ms/step - loss: 32279324.0000 - val_loss: 33045386.0000\n",
      "Epoch 129/300\n",
      "36/36 [==============================] - 0s 4ms/step - loss: 31840514.0000 - val_loss: 32580774.0000\n",
      "Epoch 130/300\n",
      "36/36 [==============================] - 0s 5ms/step - loss: 31383846.0000 - val_loss: 32130128.0000\n",
      "Epoch 131/300\n",
      "36/36 [==============================] - 0s 4ms/step - loss: 30952740.0000 - val_loss: 31667720.0000\n",
      "Epoch 132/300\n",
      "36/36 [==============================] - 0s 5ms/step - loss: 30503952.0000 - val_loss: 31268092.0000\n",
      "Epoch 133/300\n",
      "36/36 [==============================] - 0s 5ms/step - loss: 30068906.0000 - val_loss: 30782116.0000\n",
      "Epoch 134/300\n",
      "36/36 [==============================] - 0s 5ms/step - loss: 29604662.0000 - val_loss: 30333080.0000\n",
      "Epoch 135/300\n",
      "36/36 [==============================] - 0s 5ms/step - loss: 29165692.0000 - val_loss: 29890938.0000\n",
      "Epoch 136/300\n",
      "36/36 [==============================] - 0s 5ms/step - loss: 28735908.0000 - val_loss: 29454320.0000\n",
      "Epoch 137/300\n",
      "36/36 [==============================] - 0s 4ms/step - loss: 28290500.0000 - val_loss: 29034716.0000\n",
      "Epoch 138/300\n",
      "36/36 [==============================] - 0s 5ms/step - loss: 27882982.0000 - val_loss: 28637578.0000\n",
      "Epoch 139/300\n",
      "36/36 [==============================] - 0s 3ms/step - loss: 27462416.0000 - val_loss: 28217118.0000\n",
      "Epoch 140/300\n",
      "36/36 [==============================] - 0s 4ms/step - loss: 27071288.0000 - val_loss: 27851136.0000\n",
      "Epoch 141/300\n",
      "36/36 [==============================] - 0s 5ms/step - loss: 26670826.0000 - val_loss: 27493178.0000\n",
      "Epoch 142/300\n",
      "36/36 [==============================] - 0s 4ms/step - loss: 26319810.0000 - val_loss: 27177644.0000\n",
      "Epoch 143/300\n",
      "36/36 [==============================] - 0s 4ms/step - loss: 25990318.0000 - val_loss: 26825946.0000\n",
      "Epoch 144/300\n",
      "36/36 [==============================] - 0s 5ms/step - loss: 25659288.0000 - val_loss: 26507126.0000\n",
      "Epoch 145/300\n",
      "36/36 [==============================] - 0s 5ms/step - loss: 25359654.0000 - val_loss: 26252470.0000\n",
      "Epoch 146/300\n",
      "36/36 [==============================] - 0s 5ms/step - loss: 25045938.0000 - val_loss: 25964846.0000\n",
      "Epoch 147/300\n",
      "36/36 [==============================] - 0s 6ms/step - loss: 24784266.0000 - val_loss: 25711698.0000\n",
      "Epoch 148/300\n",
      "36/36 [==============================] - 0s 4ms/step - loss: 24518888.0000 - val_loss: 25485936.0000\n",
      "Epoch 149/300\n",
      "36/36 [==============================] - 0s 4ms/step - loss: 24289196.0000 - val_loss: 25273412.0000\n",
      "Epoch 150/300\n",
      "36/36 [==============================] - 0s 4ms/step - loss: 24059676.0000 - val_loss: 25054546.0000\n",
      "Epoch 151/300\n",
      "36/36 [==============================] - 0s 5ms/step - loss: 23847008.0000 - val_loss: 24875696.0000\n",
      "Epoch 152/300\n",
      "36/36 [==============================] - 0s 6ms/step - loss: 23645014.0000 - val_loss: 24685628.0000\n",
      "Epoch 153/300\n",
      "36/36 [==============================] - 0s 5ms/step - loss: 23467606.0000 - val_loss: 24520860.0000\n",
      "Epoch 154/300\n",
      "36/36 [==============================] - 0s 5ms/step - loss: 23318666.0000 - val_loss: 24373420.0000\n",
      "Epoch 155/300\n",
      "36/36 [==============================] - 0s 4ms/step - loss: 23136438.0000 - val_loss: 24238714.0000\n",
      "Epoch 156/300\n",
      "36/36 [==============================] - 0s 5ms/step - loss: 22978844.0000 - val_loss: 24102884.0000\n",
      "Epoch 157/300\n",
      "36/36 [==============================] - 0s 5ms/step - loss: 22851850.0000 - val_loss: 23984182.0000\n",
      "Epoch 158/300\n",
      "36/36 [==============================] - 0s 5ms/step - loss: 22721804.0000 - val_loss: 23860186.0000\n",
      "Epoch 159/300\n",
      "36/36 [==============================] - 0s 5ms/step - loss: 22636416.0000 - val_loss: 23752990.0000\n",
      "Epoch 160/300\n",
      "36/36 [==============================] - 0s 5ms/step - loss: 22476668.0000 - val_loss: 23650762.0000\n",
      "Epoch 161/300\n",
      "36/36 [==============================] - 0s 5ms/step - loss: 22374864.0000 - val_loss: 23547288.0000\n",
      "Epoch 162/300\n",
      "36/36 [==============================] - 0s 5ms/step - loss: 22264354.0000 - val_loss: 23477318.0000\n",
      "Epoch 163/300\n",
      "36/36 [==============================] - 0s 4ms/step - loss: 22183322.0000 - val_loss: 23384604.0000\n",
      "Epoch 164/300\n",
      "36/36 [==============================] - 0s 5ms/step - loss: 22069994.0000 - val_loss: 23297082.0000\n",
      "Epoch 165/300\n",
      "36/36 [==============================] - 0s 4ms/step - loss: 22012288.0000 - val_loss: 23223594.0000\n",
      "Epoch 166/300\n",
      "36/36 [==============================] - 0s 5ms/step - loss: 21922278.0000 - val_loss: 23146562.0000\n",
      "Epoch 167/300\n",
      "36/36 [==============================] - 0s 6ms/step - loss: 21822838.0000 - val_loss: 23083200.0000\n",
      "Epoch 168/300\n",
      "36/36 [==============================] - 0s 4ms/step - loss: 21751950.0000 - val_loss: 23029610.0000\n",
      "Epoch 169/300\n",
      "36/36 [==============================] - 0s 4ms/step - loss: 21691016.0000 - val_loss: 22968486.0000\n",
      "Epoch 170/300\n",
      "36/36 [==============================] - 0s 5ms/step - loss: 21623444.0000 - val_loss: 22907250.0000\n",
      "Epoch 171/300\n",
      "36/36 [==============================] - 0s 4ms/step - loss: 21566648.0000 - val_loss: 22844480.0000\n",
      "Epoch 172/300\n",
      "36/36 [==============================] - 0s 5ms/step - loss: 21517468.0000 - val_loss: 22796646.0000\n",
      "Epoch 173/300\n",
      "36/36 [==============================] - 0s 5ms/step - loss: 21460400.0000 - val_loss: 22753086.0000\n",
      "Epoch 174/300\n",
      "36/36 [==============================] - 0s 5ms/step - loss: 21422146.0000 - val_loss: 22707396.0000\n",
      "Epoch 175/300\n",
      "36/36 [==============================] - 0s 5ms/step - loss: 21340608.0000 - val_loss: 22674514.0000\n",
      "Epoch 176/300\n",
      "36/36 [==============================] - 0s 5ms/step - loss: 21295562.0000 - val_loss: 22621992.0000\n",
      "Epoch 177/300\n",
      "36/36 [==============================] - 0s 4ms/step - loss: 21246110.0000 - val_loss: 22585908.0000\n",
      "Epoch 178/300\n",
      "36/36 [==============================] - 0s 4ms/step - loss: 21207582.0000 - val_loss: 22548906.0000\n",
      "Epoch 179/300\n",
      "36/36 [==============================] - 0s 5ms/step - loss: 21158522.0000 - val_loss: 22529780.0000\n",
      "Epoch 180/300\n",
      "36/36 [==============================] - 0s 5ms/step - loss: 21124058.0000 - val_loss: 22485772.0000\n",
      "Epoch 181/300\n",
      "36/36 [==============================] - 0s 4ms/step - loss: 21076090.0000 - val_loss: 22463024.0000\n",
      "Epoch 182/300\n",
      "36/36 [==============================] - 0s 6ms/step - loss: 21049694.0000 - val_loss: 22415780.0000\n",
      "Epoch 183/300\n",
      "36/36 [==============================] - 0s 5ms/step - loss: 21020224.0000 - val_loss: 22425630.0000\n",
      "Epoch 184/300\n",
      "36/36 [==============================] - 0s 6ms/step - loss: 20965480.0000 - val_loss: 22361582.0000\n",
      "Epoch 185/300\n",
      "36/36 [==============================] - 0s 5ms/step - loss: 20929458.0000 - val_loss: 22328372.0000\n",
      "Epoch 186/300\n",
      "36/36 [==============================] - 0s 5ms/step - loss: 20888594.0000 - val_loss: 22319138.0000\n",
      "Epoch 187/300\n",
      "36/36 [==============================] - 0s 5ms/step - loss: 20867544.0000 - val_loss: 22310976.0000\n",
      "Epoch 188/300\n",
      "36/36 [==============================] - 0s 5ms/step - loss: 20833540.0000 - val_loss: 22241810.0000\n",
      "Epoch 189/300\n",
      "36/36 [==============================] - 0s 5ms/step - loss: 20834088.0000 - val_loss: 22216580.0000\n",
      "Epoch 190/300\n",
      "36/36 [==============================] - 0s 7ms/step - loss: 20764416.0000 - val_loss: 22196868.0000\n",
      "Epoch 191/300\n",
      "36/36 [==============================] - 0s 7ms/step - loss: 20745098.0000 - val_loss: 22156162.0000\n",
      "Epoch 192/300\n",
      "36/36 [==============================] - 0s 5ms/step - loss: 20708442.0000 - val_loss: 22130254.0000\n",
      "Epoch 193/300\n",
      "36/36 [==============================] - 0s 6ms/step - loss: 20677046.0000 - val_loss: 22163984.0000\n",
      "Epoch 194/300\n",
      "36/36 [==============================] - 0s 4ms/step - loss: 20650890.0000 - val_loss: 22077596.0000\n",
      "Epoch 195/300\n",
      "36/36 [==============================] - 0s 5ms/step - loss: 20641278.0000 - val_loss: 22052664.0000\n",
      "Epoch 196/300\n",
      "36/36 [==============================] - 0s 5ms/step - loss: 20586060.0000 - val_loss: 22035706.0000\n",
      "Epoch 197/300\n",
      "36/36 [==============================] - 0s 5ms/step - loss: 20593718.0000 - val_loss: 22045030.0000\n",
      "Epoch 198/300\n",
      "36/36 [==============================] - 0s 5ms/step - loss: 20539058.0000 - val_loss: 21972506.0000\n",
      "Epoch 199/300\n",
      "36/36 [==============================] - 0s 5ms/step - loss: 20515904.0000 - val_loss: 21950028.0000\n",
      "Epoch 200/300\n",
      "36/36 [==============================] - 0s 5ms/step - loss: 20482138.0000 - val_loss: 21939078.0000\n",
      "Epoch 201/300\n",
      "36/36 [==============================] - 0s 5ms/step - loss: 20447686.0000 - val_loss: 21984614.0000\n",
      "Epoch 202/300\n",
      "36/36 [==============================] - 0s 5ms/step - loss: 20469846.0000 - val_loss: 21928928.0000\n",
      "Epoch 203/300\n",
      "36/36 [==============================] - 0s 7ms/step - loss: 20406868.0000 - val_loss: 21857352.0000\n",
      "Epoch 204/300\n",
      "36/36 [==============================] - 0s 5ms/step - loss: 20379808.0000 - val_loss: 21830874.0000\n",
      "Epoch 205/300\n",
      "36/36 [==============================] - 0s 5ms/step - loss: 20349684.0000 - val_loss: 21809352.0000\n",
      "Epoch 206/300\n",
      "36/36 [==============================] - 0s 5ms/step - loss: 20324888.0000 - val_loss: 21778982.0000\n",
      "Epoch 207/300\n",
      "36/36 [==============================] - 0s 5ms/step - loss: 20354214.0000 - val_loss: 21776478.0000\n",
      "Epoch 208/300\n",
      "36/36 [==============================] - 0s 5ms/step - loss: 20312808.0000 - val_loss: 21734874.0000\n",
      "Epoch 209/300\n",
      "36/36 [==============================] - 0s 5ms/step - loss: 20265354.0000 - val_loss: 21773654.0000\n",
      "Epoch 210/300\n",
      "36/36 [==============================] - 0s 4ms/step - loss: 20232440.0000 - val_loss: 21693102.0000\n",
      "Epoch 211/300\n",
      "36/36 [==============================] - 0s 4ms/step - loss: 20206634.0000 - val_loss: 21668440.0000\n",
      "Epoch 212/300\n",
      "36/36 [==============================] - 0s 4ms/step - loss: 20181776.0000 - val_loss: 21652698.0000\n",
      "Epoch 213/300\n",
      "36/36 [==============================] - 0s 4ms/step - loss: 20152900.0000 - val_loss: 21640150.0000\n",
      "Epoch 214/300\n",
      "36/36 [==============================] - 0s 5ms/step - loss: 20141142.0000 - val_loss: 21637292.0000\n",
      "Epoch 215/300\n",
      "36/36 [==============================] - 0s 5ms/step - loss: 20115842.0000 - val_loss: 21587496.0000\n",
      "Epoch 216/300\n",
      "36/36 [==============================] - 0s 5ms/step - loss: 20084656.0000 - val_loss: 21562782.0000\n",
      "Epoch 217/300\n",
      "36/36 [==============================] - 0s 5ms/step - loss: 20064002.0000 - val_loss: 21531426.0000\n",
      "Epoch 218/300\n",
      "36/36 [==============================] - 0s 5ms/step - loss: 20043218.0000 - val_loss: 21510176.0000\n",
      "Epoch 219/300\n",
      "36/36 [==============================] - 0s 4ms/step - loss: 20002288.0000 - val_loss: 21505054.0000\n",
      "Epoch 220/300\n",
      "36/36 [==============================] - 0s 5ms/step - loss: 19981434.0000 - val_loss: 21503634.0000\n",
      "Epoch 221/300\n",
      "36/36 [==============================] - 0s 5ms/step - loss: 20007924.0000 - val_loss: 21462136.0000\n",
      "Epoch 222/300\n",
      "36/36 [==============================] - 0s 5ms/step - loss: 19957664.0000 - val_loss: 21457876.0000\n",
      "Epoch 223/300\n",
      "36/36 [==============================] - 0s 5ms/step - loss: 19946958.0000 - val_loss: 21442872.0000\n",
      "Epoch 224/300\n",
      "36/36 [==============================] - 0s 5ms/step - loss: 19908994.0000 - val_loss: 21441104.0000\n",
      "Epoch 225/300\n",
      "36/36 [==============================] - 0s 5ms/step - loss: 19881258.0000 - val_loss: 21384112.0000\n",
      "Epoch 226/300\n",
      "36/36 [==============================] - 0s 5ms/step - loss: 19864102.0000 - val_loss: 21363362.0000\n",
      "Epoch 227/300\n",
      "36/36 [==============================] - 0s 5ms/step - loss: 19841866.0000 - val_loss: 21350392.0000\n",
      "Epoch 228/300\n",
      "36/36 [==============================] - 0s 4ms/step - loss: 19828486.0000 - val_loss: 21327530.0000\n",
      "Epoch 229/300\n",
      "36/36 [==============================] - 0s 5ms/step - loss: 19807486.0000 - val_loss: 21316916.0000\n",
      "Epoch 230/300\n",
      "36/36 [==============================] - 0s 5ms/step - loss: 19779474.0000 - val_loss: 21289560.0000\n",
      "Epoch 231/300\n",
      "36/36 [==============================] - 0s 4ms/step - loss: 19749470.0000 - val_loss: 21297942.0000\n",
      "Epoch 232/300\n",
      "36/36 [==============================] - 0s 5ms/step - loss: 19750706.0000 - val_loss: 21280996.0000\n",
      "Epoch 233/300\n",
      "36/36 [==============================] - 0s 4ms/step - loss: 19720466.0000 - val_loss: 21242104.0000\n",
      "Epoch 234/300\n",
      "36/36 [==============================] - 0s 5ms/step - loss: 19689428.0000 - val_loss: 21226118.0000\n",
      "Epoch 235/300\n",
      "36/36 [==============================] - 0s 4ms/step - loss: 19699270.0000 - val_loss: 21253192.0000\n",
      "Epoch 236/300\n",
      "36/36 [==============================] - 0s 5ms/step - loss: 19657358.0000 - val_loss: 21210266.0000\n",
      "Epoch 237/300\n",
      "36/36 [==============================] - 0s 5ms/step - loss: 19617210.0000 - val_loss: 21160696.0000\n",
      "Epoch 238/300\n",
      "36/36 [==============================] - 0s 4ms/step - loss: 19623022.0000 - val_loss: 21146462.0000\n",
      "Epoch 239/300\n",
      "36/36 [==============================] - 0s 4ms/step - loss: 19590862.0000 - val_loss: 21125436.0000\n",
      "Epoch 240/300\n",
      "36/36 [==============================] - 0s 5ms/step - loss: 19556014.0000 - val_loss: 21109598.0000\n",
      "Epoch 241/300\n",
      "36/36 [==============================] - 0s 5ms/step - loss: 19526176.0000 - val_loss: 21088828.0000\n",
      "Epoch 242/300\n",
      "36/36 [==============================] - 0s 5ms/step - loss: 19513408.0000 - val_loss: 21066276.0000\n",
      "Epoch 243/300\n",
      "36/36 [==============================] - 0s 5ms/step - loss: 19490760.0000 - val_loss: 21064220.0000\n",
      "Epoch 244/300\n",
      "36/36 [==============================] - 0s 5ms/step - loss: 19464526.0000 - val_loss: 21136280.0000\n",
      "Epoch 245/300\n",
      "36/36 [==============================] - 0s 5ms/step - loss: 19476232.0000 - val_loss: 21063566.0000\n",
      "Epoch 246/300\n",
      "36/36 [==============================] - 0s 5ms/step - loss: 19424718.0000 - val_loss: 20984350.0000\n",
      "Epoch 247/300\n",
      "36/36 [==============================] - 0s 5ms/step - loss: 19404982.0000 - val_loss: 20979646.0000\n",
      "Epoch 248/300\n",
      "36/36 [==============================] - 0s 6ms/step - loss: 19379224.0000 - val_loss: 20950644.0000\n",
      "Epoch 249/300\n",
      "36/36 [==============================] - 0s 5ms/step - loss: 19355638.0000 - val_loss: 20932760.0000\n",
      "Epoch 250/300\n",
      "36/36 [==============================] - 0s 4ms/step - loss: 19344954.0000 - val_loss: 20919290.0000\n",
      "Epoch 251/300\n",
      "36/36 [==============================] - 0s 5ms/step - loss: 19323290.0000 - val_loss: 20910764.0000\n",
      "Epoch 252/300\n",
      "36/36 [==============================] - 0s 5ms/step - loss: 19331738.0000 - val_loss: 20888204.0000\n",
      "Epoch 253/300\n",
      "36/36 [==============================] - 0s 5ms/step - loss: 19283198.0000 - val_loss: 20878908.0000\n",
      "Epoch 254/300\n",
      "36/36 [==============================] - 0s 6ms/step - loss: 19271928.0000 - val_loss: 20849070.0000\n",
      "Epoch 255/300\n",
      "36/36 [==============================] - 0s 6ms/step - loss: 19251720.0000 - val_loss: 20837054.0000\n",
      "Epoch 256/300\n",
      "36/36 [==============================] - 0s 5ms/step - loss: 19239248.0000 - val_loss: 20819852.0000\n",
      "Epoch 257/300\n",
      "36/36 [==============================] - 0s 5ms/step - loss: 19217818.0000 - val_loss: 20824326.0000\n",
      "Epoch 258/300\n",
      "36/36 [==============================] - 0s 5ms/step - loss: 19194970.0000 - val_loss: 20786522.0000\n",
      "Epoch 259/300\n",
      "36/36 [==============================] - 0s 5ms/step - loss: 19179272.0000 - val_loss: 20793674.0000\n",
      "Epoch 260/300\n",
      "36/36 [==============================] - 0s 5ms/step - loss: 19157982.0000 - val_loss: 20751200.0000\n",
      "Epoch 261/300\n",
      "36/36 [==============================] - 0s 5ms/step - loss: 19150740.0000 - val_loss: 20745288.0000\n",
      "Epoch 262/300\n",
      "36/36 [==============================] - 0s 5ms/step - loss: 19125268.0000 - val_loss: 20740576.0000\n",
      "Epoch 263/300\n",
      "36/36 [==============================] - 0s 5ms/step - loss: 19121076.0000 - val_loss: 20716904.0000\n",
      "Epoch 264/300\n",
      "36/36 [==============================] - 0s 5ms/step - loss: 19102512.0000 - val_loss: 20694952.0000\n",
      "Epoch 265/300\n",
      "36/36 [==============================] - 0s 5ms/step - loss: 19084348.0000 - val_loss: 20720074.0000\n",
      "Epoch 266/300\n",
      "36/36 [==============================] - 0s 5ms/step - loss: 19089110.0000 - val_loss: 20651902.0000\n",
      "Epoch 267/300\n",
      "36/36 [==============================] - 0s 5ms/step - loss: 19042362.0000 - val_loss: 20667416.0000\n",
      "Epoch 268/300\n",
      "36/36 [==============================] - 0s 5ms/step - loss: 19036488.0000 - val_loss: 20628842.0000\n",
      "Epoch 269/300\n",
      "36/36 [==============================] - 0s 6ms/step - loss: 19017988.0000 - val_loss: 20618328.0000\n",
      "Epoch 270/300\n",
      "36/36 [==============================] - 0s 6ms/step - loss: 19007546.0000 - val_loss: 20621736.0000\n",
      "Epoch 271/300\n",
      "36/36 [==============================] - 0s 5ms/step - loss: 19008068.0000 - val_loss: 20577404.0000\n",
      "Epoch 272/300\n",
      "36/36 [==============================] - 0s 5ms/step - loss: 18984434.0000 - val_loss: 20562912.0000\n",
      "Epoch 273/300\n",
      "36/36 [==============================] - 0s 6ms/step - loss: 18956438.0000 - val_loss: 20546000.0000\n",
      "Epoch 274/300\n",
      "36/36 [==============================] - 0s 6ms/step - loss: 18949500.0000 - val_loss: 20530450.0000\n",
      "Epoch 275/300\n",
      "36/36 [==============================] - 0s 5ms/step - loss: 18922550.0000 - val_loss: 20537362.0000\n",
      "Epoch 276/300\n",
      "36/36 [==============================] - 0s 6ms/step - loss: 18924812.0000 - val_loss: 20546080.0000\n",
      "Epoch 277/300\n",
      "36/36 [==============================] - 0s 5ms/step - loss: 18905204.0000 - val_loss: 20485214.0000\n",
      "Epoch 278/300\n",
      "36/36 [==============================] - 0s 5ms/step - loss: 18879192.0000 - val_loss: 20471452.0000\n",
      "Epoch 279/300\n",
      "36/36 [==============================] - 0s 6ms/step - loss: 18869750.0000 - val_loss: 20457890.0000\n",
      "Epoch 280/300\n",
      "36/36 [==============================] - 0s 5ms/step - loss: 18869742.0000 - val_loss: 20457268.0000\n",
      "Epoch 281/300\n",
      "36/36 [==============================] - 0s 4ms/step - loss: 18852702.0000 - val_loss: 20427046.0000\n",
      "Epoch 282/300\n",
      "36/36 [==============================] - 0s 5ms/step - loss: 18821594.0000 - val_loss: 20417710.0000\n",
      "Epoch 283/300\n",
      "36/36 [==============================] - 0s 5ms/step - loss: 18830194.0000 - val_loss: 20387820.0000\n",
      "Epoch 284/300\n",
      "36/36 [==============================] - 0s 6ms/step - loss: 18799740.0000 - val_loss: 20388864.0000\n",
      "Epoch 285/300\n",
      "36/36 [==============================] - 0s 4ms/step - loss: 18800836.0000 - val_loss: 20395486.0000\n",
      "Epoch 286/300\n",
      "36/36 [==============================] - 0s 6ms/step - loss: 18787644.0000 - val_loss: 20398004.0000\n",
      "Epoch 287/300\n",
      "36/36 [==============================] - 0s 5ms/step - loss: 18770244.0000 - val_loss: 20331736.0000\n",
      "Epoch 288/300\n",
      "36/36 [==============================] - 0s 5ms/step - loss: 18750566.0000 - val_loss: 20327236.0000\n",
      "Epoch 289/300\n",
      "36/36 [==============================] - 0s 5ms/step - loss: 18730796.0000 - val_loss: 20305070.0000\n",
      "Epoch 290/300\n",
      "36/36 [==============================] - 0s 6ms/step - loss: 18739180.0000 - val_loss: 20295148.0000\n",
      "Epoch 291/300\n",
      "36/36 [==============================] - 0s 5ms/step - loss: 18727774.0000 - val_loss: 20284654.0000\n",
      "Epoch 292/300\n",
      "36/36 [==============================] - 0s 5ms/step - loss: 18730488.0000 - val_loss: 20300804.0000\n",
      "Epoch 293/300\n",
      "36/36 [==============================] - 0s 5ms/step - loss: 18732134.0000 - val_loss: 20244478.0000\n",
      "Epoch 294/300\n",
      "36/36 [==============================] - 0s 6ms/step - loss: 18686980.0000 - val_loss: 20230796.0000\n",
      "Epoch 295/300\n",
      "36/36 [==============================] - 0s 5ms/step - loss: 18667762.0000 - val_loss: 20243386.0000\n",
      "Epoch 296/300\n",
      "36/36 [==============================] - 0s 6ms/step - loss: 18666852.0000 - val_loss: 20220102.0000\n",
      "Epoch 297/300\n",
      "36/36 [==============================] - 0s 6ms/step - loss: 18666868.0000 - val_loss: 20201032.0000\n",
      "Epoch 298/300\n",
      "36/36 [==============================] - 0s 6ms/step - loss: 18676702.0000 - val_loss: 20188654.0000\n",
      "Epoch 299/300\n",
      "36/36 [==============================] - 0s 5ms/step - loss: 18635988.0000 - val_loss: 20172400.0000\n",
      "Epoch 300/300\n",
      "36/36 [==============================] - 0s 5ms/step - loss: 18621212.0000 - val_loss: 20157708.0000\n"
     ]
    },
    {
     "data": {
      "text/plain": [
       "<keras.callbacks.History at 0x2b0524fbf70>"
      ]
     },
     "execution_count": 42,
     "metadata": {},
     "output_type": "execute_result"
    }
   ],
   "source": [
    "# validation data otomatik olarak test etme işlemi yapıyor\n",
    "model.fit(x=x_train, \n",
    "          y=y_train,\n",
    "          validation_data=(x_test, y_test),\n",
    "          epochs=300,\n",
    "          batch_size=256)\n"
   ]
  },
  {
   "cell_type": "code",
   "execution_count": 43,
   "id": "b7c5f57d-3e8d-4a23-a801-1196ff5772e0",
   "metadata": {},
   "outputs": [],
   "source": [
    "kayipVerisi = pd.DataFrame(model.history.history)"
   ]
  },
  {
   "cell_type": "code",
   "execution_count": 44,
   "id": "83df5c89-7962-4cab-a3ac-29ca7a3f5a65",
   "metadata": {},
   "outputs": [
    {
     "data": {
      "text/html": [
       "<div>\n",
       "<style scoped>\n",
       "    .dataframe tbody tr th:only-of-type {\n",
       "        vertical-align: middle;\n",
       "    }\n",
       "\n",
       "    .dataframe tbody tr th {\n",
       "        vertical-align: top;\n",
       "    }\n",
       "\n",
       "    .dataframe thead th {\n",
       "        text-align: right;\n",
       "    }\n",
       "</style>\n",
       "<table border=\"1\" class=\"dataframe\">\n",
       "  <thead>\n",
       "    <tr style=\"text-align: right;\">\n",
       "      <th></th>\n",
       "      <th>loss</th>\n",
       "      <th>val_loss</th>\n",
       "    </tr>\n",
       "  </thead>\n",
       "  <tbody>\n",
       "    <tr>\n",
       "      <th>0</th>\n",
       "      <td>672149248.0</td>\n",
       "      <td>688110336.0</td>\n",
       "    </tr>\n",
       "    <tr>\n",
       "      <th>1</th>\n",
       "      <td>672138368.0</td>\n",
       "      <td>688092864.0</td>\n",
       "    </tr>\n",
       "    <tr>\n",
       "      <th>2</th>\n",
       "      <td>672101760.0</td>\n",
       "      <td>688022144.0</td>\n",
       "    </tr>\n",
       "    <tr>\n",
       "      <th>3</th>\n",
       "      <td>671943488.0</td>\n",
       "      <td>687706816.0</td>\n",
       "    </tr>\n",
       "    <tr>\n",
       "      <th>4</th>\n",
       "      <td>671361472.0</td>\n",
       "      <td>686707712.0</td>\n",
       "    </tr>\n",
       "  </tbody>\n",
       "</table>\n",
       "</div>"
      ],
      "text/plain": [
       "          loss     val_loss\n",
       "0  672149248.0  688110336.0\n",
       "1  672138368.0  688092864.0\n",
       "2  672101760.0  688022144.0\n",
       "3  671943488.0  687706816.0\n",
       "4  671361472.0  686707712.0"
      ]
     },
     "execution_count": 44,
     "metadata": {},
     "output_type": "execute_result"
    }
   ],
   "source": [
    "kayipVerisi.head()"
   ]
  },
  {
   "cell_type": "code",
   "execution_count": 45,
   "id": "36ebc0e8-4174-4b0b-a187-9dbfd8615a6a",
   "metadata": {},
   "outputs": [
    {
     "data": {
      "text/plain": [
       "<Axes: >"
      ]
     },
     "execution_count": 45,
     "metadata": {},
     "output_type": "execute_result"
    },
    {
     "data": {
      "image/png": "[encoded data removed]",
      "text/plain": [
       "<Figure size 640x480 with 1 Axes>"
      ]
     },
     "metadata": {},
     "output_type": "display_data"
    }
   ],
   "source": [
    "kayipVerisi.plot()"
   ]
  },
  {
   "cell_type": "code",
   "execution_count": 46,
   "id": "a8a51172-ecd7-49ee-989a-cb05c943bdee",
   "metadata": {},
   "outputs": [],
   "source": [
    "from sklearn.metrics import mean_squared_error, mean_absolute_error"
   ]
  },
  {
   "cell_type": "code",
   "execution_count": 47,
   "id": "c58de928-6cea-450e-844f-68626fe81667",
   "metadata": {},
   "outputs": [
    {
     "name": "stdout",
     "output_type": "stream",
     "text": [
      "122/122 [==============================] - 0s 2ms/step\n"
     ]
    }
   ],
   "source": [
    "tahminDizisi = model.predict(x_test)"
   ]
  },
  {
   "cell_type": "code",
   "execution_count": 48,
   "id": "0e8eb815-49c6-47ef-9641-07eb484d1d68",
   "metadata": {},
   "outputs": [
    {
     "data": {
      "text/plain": [
       "array([[22585.203 ],\n",
       "       [23555.88  ],\n",
       "       [24749.586 ],\n",
       "       ...,\n",
       "       [26167.184 ],\n",
       "       [14303.4795],\n",
       "       [24576.031 ]], dtype=float32)"
      ]
     },
     "execution_count": 48,
     "metadata": {},
     "output_type": "execute_result"
    }
   ],
   "source": [
    "tahminDizisi"
   ]
  },
  {
   "cell_type": "code",
   "execution_count": 49,
   "id": "23e61353-dbaf-4825-98c3-de6a5cbb5f2f",
   "metadata": {},
   "outputs": [
    {
     "data": {
      "text/plain": [
       "3210.267025817135"
      ]
     },
     "execution_count": 49,
     "metadata": {},
     "output_type": "execute_result"
    }
   ],
   "source": [
    "mean_absolute_error(y_test,tahminDizisi)"
   ]
  },
  {
   "cell_type": "code",
   "execution_count": 50,
   "id": "6144c8fc-3b30-4da5-8c6b-f4f5a75d0dc4",
   "metadata": {},
   "outputs": [
    {
     "data": {
      "text/html": [
       "<div>\n",
       "<style scoped>\n",
       "    .dataframe tbody tr th:only-of-type {\n",
       "        vertical-align: middle;\n",
       "    }\n",
       "\n",
       "    .dataframe tbody tr th {\n",
       "        vertical-align: top;\n",
       "    }\n",
       "\n",
       "    .dataframe thead th {\n",
       "        text-align: right;\n",
       "    }\n",
       "</style>\n",
       "<table border=\"1\" class=\"dataframe\">\n",
       "  <thead>\n",
       "    <tr style=\"text-align: right;\">\n",
       "      <th></th>\n",
       "      <th>year</th>\n",
       "      <th>price</th>\n",
       "      <th>mileage</th>\n",
       "      <th>tax</th>\n",
       "      <th>mpg</th>\n",
       "      <th>engineSize</th>\n",
       "    </tr>\n",
       "  </thead>\n",
       "  <tbody>\n",
       "    <tr>\n",
       "      <th>count</th>\n",
       "      <td>12987.000000</td>\n",
       "      <td>12987.000000</td>\n",
       "      <td>12987.000000</td>\n",
       "      <td>12987.000000</td>\n",
       "      <td>12987.000000</td>\n",
       "      <td>12987.000000</td>\n",
       "    </tr>\n",
       "    <tr>\n",
       "      <th>mean</th>\n",
       "      <td>2017.285516</td>\n",
       "      <td>24074.855779</td>\n",
       "      <td>22133.367367</td>\n",
       "      <td>129.676215</td>\n",
       "      <td>55.438392</td>\n",
       "      <td>2.051059</td>\n",
       "    </tr>\n",
       "    <tr>\n",
       "      <th>std</th>\n",
       "      <td>2.189633</td>\n",
       "      <td>9866.601115</td>\n",
       "      <td>21197.472376</td>\n",
       "      <td>65.167429</td>\n",
       "      <td>15.025902</td>\n",
       "      <td>0.532313</td>\n",
       "    </tr>\n",
       "    <tr>\n",
       "      <th>min</th>\n",
       "      <td>1997.000000</td>\n",
       "      <td>650.000000</td>\n",
       "      <td>1.000000</td>\n",
       "      <td>0.000000</td>\n",
       "      <td>1.100000</td>\n",
       "      <td>0.000000</td>\n",
       "    </tr>\n",
       "    <tr>\n",
       "      <th>25%</th>\n",
       "      <td>2016.000000</td>\n",
       "      <td>17355.000000</td>\n",
       "      <td>6320.000000</td>\n",
       "      <td>125.000000</td>\n",
       "      <td>45.600000</td>\n",
       "      <td>1.700000</td>\n",
       "    </tr>\n",
       "    <tr>\n",
       "      <th>50%</th>\n",
       "      <td>2018.000000</td>\n",
       "      <td>22299.000000</td>\n",
       "      <td>15371.000000</td>\n",
       "      <td>145.000000</td>\n",
       "      <td>56.500000</td>\n",
       "      <td>2.000000</td>\n",
       "    </tr>\n",
       "    <tr>\n",
       "      <th>75%</th>\n",
       "      <td>2019.000000</td>\n",
       "      <td>28706.000000</td>\n",
       "      <td>31986.500000</td>\n",
       "      <td>145.000000</td>\n",
       "      <td>64.200000</td>\n",
       "      <td>2.100000</td>\n",
       "    </tr>\n",
       "    <tr>\n",
       "      <th>max</th>\n",
       "      <td>2020.000000</td>\n",
       "      <td>65990.000000</td>\n",
       "      <td>259000.000000</td>\n",
       "      <td>580.000000</td>\n",
       "      <td>217.300000</td>\n",
       "      <td>6.200000</td>\n",
       "    </tr>\n",
       "  </tbody>\n",
       "</table>\n",
       "</div>"
      ],
      "text/plain": [
       "               year         price        mileage           tax           mpg  \\\n",
       "count  12987.000000  12987.000000   12987.000000  12987.000000  12987.000000   \n",
       "mean    2017.285516  24074.855779   22133.367367    129.676215     55.438392   \n",
       "std        2.189633   9866.601115   21197.472376     65.167429     15.025902   \n",
       "min     1997.000000    650.000000       1.000000      0.000000      1.100000   \n",
       "25%     2016.000000  17355.000000    6320.000000    125.000000     45.600000   \n",
       "50%     2018.000000  22299.000000   15371.000000    145.000000     56.500000   \n",
       "75%     2019.000000  28706.000000   31986.500000    145.000000     64.200000   \n",
       "max     2020.000000  65990.000000  259000.000000    580.000000    217.300000   \n",
       "\n",
       "         engineSize  \n",
       "count  12987.000000  \n",
       "mean       2.051059  \n",
       "std        0.532313  \n",
       "min        0.000000  \n",
       "25%        1.700000  \n",
       "50%        2.000000  \n",
       "75%        2.100000  \n",
       "max        6.200000  "
      ]
     },
     "execution_count": 50,
     "metadata": {},
     "output_type": "execute_result"
    }
   ],
   "source": [
    "dataFrame.describe()"
   ]
  },
  {
   "cell_type": "code",
   "execution_count": 51,
   "id": "63ed0940-37c3-43c6-b294-2d7188af827b",
   "metadata": {},
   "outputs": [
    {
     "data": {
      "text/plain": [
       "<matplotlib.collections.PathCollection at 0x2b1e9916c40>"
      ]
     },
     "execution_count": 51,
     "metadata": {},
     "output_type": "execute_result"
    },
    {
     "data": {
      "image/png": "[encoded data removed]",
      "text/plain": [
       "<Figure size 640x480 with 1 Axes>"
      ]
     },
     "metadata": {},
     "output_type": "display_data"
    }
   ],
   "source": [
    "plt.scatter(y_test,tahminDizisi)"
   ]
  },
  {
   "cell_type": "code",
   "execution_count": 52,
   "id": "ecb9af07-5a46-4c44-b0db-25c0181ee988",
   "metadata": {},
   "outputs": [
    {
     "data": {
      "text/plain": [
       "year           2020.0\n",
       "price         65980.0\n",
       "mileage        3999.0\n",
       "tax             145.0\n",
       "mpg              28.0\n",
       "engineSize        4.0\n",
       "Name: 3191, dtype: float64"
      ]
     },
     "execution_count": 52,
     "metadata": {},
     "output_type": "execute_result"
    }
   ],
   "source": [
    "dataFrame.iloc[2]"
   ]
  },
  {
   "cell_type": "code",
   "execution_count": 53,
   "id": "2ce3734b-8538-4030-a6c1-9a92c48fac89",
   "metadata": {},
   "outputs": [],
   "source": [
    "yeniArabaDf = dataFrame.drop(\"price\",axis=1).iloc[2]"
   ]
  },
  {
   "cell_type": "code",
   "execution_count": 54,
   "id": "89bd6e11-8f90-4830-bd4a-359fe055b07f",
   "metadata": {},
   "outputs": [],
   "source": [
    "yeniArabaDf = scaler.transform(yeniArabaDf.values.reshape(-1,5))"
   ]
  },
  {
   "cell_type": "code",
   "execution_count": 55,
   "id": "be7bce55-d2b0-4a53-9e3a-69fd0fe7647e",
   "metadata": {},
   "outputs": [
    {
     "name": "stdout",
     "output_type": "stream",
     "text": [
      "1/1 [==============================] - 0s 22ms/step\n"
     ]
    },
    {
     "data": {
      "text/plain": [
       "array([[62231.24]], dtype=float32)"
      ]
     },
     "execution_count": 55,
     "metadata": {},
     "output_type": "execute_result"
    }
   ],
   "source": [
    "model.predict(yeniArabaDf)"
   ]
  }
 ],
 "metadata": {
  "kernelspec": {
   "display_name": "Python 3 (ipykernel)",
   "language": "python",
   "name": "python3"
  },
  "language_info": {
   "codemirror_mode": {
    "name": "ipython",
    "version": 3
   },
   "file_extension": ".py",
   "mimetype": "text/x-python",
   "name": "python",
   "nbconvert_exporter": "python",
   "pygments_lexer": "ipython3",
   "version": "3.9.19"
  }
 },
 "nbformat": 4,
 "nbformat_minor": 5
}
