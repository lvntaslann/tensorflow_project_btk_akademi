{
 "cells": [
  {
   "cell_type": "markdown",
   "id": "90163454-6fcb-465b-a64a-a7194fe008c8",
   "metadata": {},
   "source": [
    "# Perceptron\r\n",
    "\r\n",
    "## Yapay Sinir Ağı (ANN)\r\n",
    "\r\n",
    "- **Perceptron:** Yapay nöron\r\n",
    "- İki girdi alıp bir çıktı oluşturma işlemi\r\n",
    "\r\n",
    "## Derin Ağ (Deep Network)\r\n",
    "\r\n",
    "- Girdi katmanı\r\n",
    "- Bir veya daha fazla gizli katman\r\n",
    "- Çıktı katmanı\r\n"
   ]
  },
  {
   "cell_type": "markdown",
   "id": "37f33569-3407-4fa2-b69b-34f65ee14334",
   "metadata": {},
   "source": [
    "## Aktivasyon Fonksiyonları\r\n",
    "\r\n",
    "- **Sigmoid Fonksiyonu:** \r\n",
    "  - 0 ile 1 arasında değer alır\r\n",
    "  - Genelde sınıflandırma işlemlerinde kullanılır\r\n",
    "\r\n",
    "- **Tanh Fonksiyonu:**\r\n",
    "  - -1 ile 1 arasında değer alır\r\n",
    "  - Negatif değerlerde daha geniş bir kapsam sağlar\r\n",
    "  - Genelde sınıflandırma operasyonlarında kullanılır\r\n",
    "\r\n",
    "- **ReLU (Rectified Linear Unit):**\r\n",
    "  - 0 ile sonsuz arasında değer alır\r\n",
    "  - Derin öğrenmede sıkça karşımıza çıkar\r\n",
    "\r\n",
    "- **Linear Fonksiyonlar:**\r\n",
    "  - \\( f(x) = x \\)\r\n",
    "  - Sonsuz değer alabilir\r\n",
    "  - Non-linear olmaması sebebiyle modellere sorun yaratabilir\r\n"
   ]
  },
  {
   "cell_type": "markdown",
   "id": "3e194695-eb1a-4530-b35d-4ea628f97bfa",
   "metadata": {},
   "source": [
    "## Regresyon\n",
    "- Bir X değişkeninden Y değişkeni değeri elde etme işlemi\n",
    "- Xler girdi Yler çıktı yani\n",
    "- örnek olarak babaların boylarını girdi olarak gösterip çocukların boyları hakkında bir yorum yapılabilir"
   ]
  },
  {
   "cell_type": "markdown",
   "id": "da4a1743-9df5-4e4c-b27a-c6b8b41d9bf0",
   "metadata": {},
   "source": [
    "## Tensorflow\n",
    "- Veri öğrenme verisi ve test verisi olarak ikiyi ayrılıp tahminler oluşturulur\n",
    "- Veri ayırma işlemi yapıldıktan sonra nöronlar oluşturulup işlemler yapılır\n",
    "- Ve tahminler ile gerçek değerler arasında karşılaştırma yapılarak sonuçlar elde edilir\n",
    "## Maliyet fonksiyonu\n",
    "- gerçek veriden ne kadar uzaktayız onu ölçer\n",
    "## Gradiend Descent\n",
    "- fonksiyonun minimumunu bulmak için kullanılan optimizasyon fonksiyonu\n",
    "- maliyet fonksiyonunu minimize etmek için kullanılır\n",
    "- fonsiyon üzerinde minumumu grafiğin her bölgesinde yaparken ne kadar hızlı ya da yavaş ineceğimizi step size ile belirleyebiliriz step sizeın doğru sonuçlar elde edilmesi için dikkatli belirlenmelidir. Bu da öğrenme seviyemizi belirler.\n",
    "   ## Popüler seçenekler\n",
    "      -Adam\n",
    "      -RMSProp\n"
   ]
  },
  {
   "cell_type": "markdown",
   "id": "1db098e2-59a4-49f9-8044-d77fb165364b",
   "metadata": {},
   "source": [
    "## train - test data\n",
    "- model eğitiminde kullanacağımız verinin validate işlemi için verinin parçalanması\n",
    "## batch-size\n",
    "- modelin bir adımda kaç girdi ile eğitileceği arttırılması donanımı zorlarken azaltılması da modelin eğitim süresini arttırır\n",
    "## epoch\n",
    "- modelin kaç adımda eğitileceğini gösterir. modelin gereğinden fazal epochta eğitilmesi overfitting(aşırı öğrenmeye) yol açar.\n",
    "## learning-rate\n",
    "- modelin her bir işlem için ne kadar süre eğitildiğini gösteriyor"
   ]
  }
 ],
 "metadata": {
  "kernelspec": {
   "display_name": "Python 3 (ipykernel)",
   "language": "python",
   "name": "python3"
  },
  "language_info": {
   "codemirror_mode": {
    "name": "ipython",
    "version": 3
   },
   "file_extension": ".py",
   "mimetype": "text/x-python",
   "name": "python",
   "nbconvert_exporter": "python",
   "pygments_lexer": "ipython3",
   "version": "3.9.19"
  }
 },
 "nbformat": 4,
 "nbformat_minor": 5
}
